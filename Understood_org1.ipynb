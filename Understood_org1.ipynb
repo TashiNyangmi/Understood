{
  "nbformat": 4,
  "nbformat_minor": 0,
  "metadata": {
    "colab": {
      "name": "Understood_org1.ipynb",
      "provenance": [],
      "collapsed_sections": [],
      "authorship_tag": "ABX9TyOF8U+wmhi05K4E+R8j6h1c",
      "include_colab_link": true
    },
    "kernelspec": {
      "name": "python3",
      "display_name": "Python 3"
    }
  },
  "cells": [
    {
      "cell_type": "markdown",
      "metadata": {
        "id": "view-in-github",
        "colab_type": "text"
      },
      "source": [
        "<a href=\"https://colab.research.google.com/github/TashiNyangmi/Understood/blob/master/Understood_org1.ipynb\" target=\"_parent\"><img src=\"https://colab.research.google.com/assets/colab-badge.svg\" alt=\"Open In Colab\"/></a>"
      ]
    },
    {
      "cell_type": "code",
      "metadata": {
        "id": "OGnPqXvdR-Gs",
        "colab_type": "code",
        "colab": {}
      },
      "source": [
        "import datetime as dt\n",
        "from statistics import mean"
      ],
      "execution_count": null,
      "outputs": []
    },
    {
      "cell_type": "markdown",
      "metadata": {
        "id": "YEl_LbetMobO",
        "colab_type": "text"
      },
      "source": [
        "Method 1: Brute Force Using nested loop and going through each and every possible combination of 2 elements within the array once."
      ]
    },
    {
      "cell_type": "code",
      "metadata": {
        "id": "u_LPWwh3LI06",
        "colab_type": "code",
        "colab": {}
      },
      "source": [
        "def m1_bf (array, x):\n",
        "  flag = False\n",
        "  # a nestedloop\n",
        "  for i in range(len(a_array)):\n",
        "    for j in range(len(a_array)):\n",
        "      if (j+i+1 == len(a_array)):break\n",
        "      # index numbers \n",
        "      # print (i, i+j+1)\n",
        "      sum_two_no = a_array[i] + a_array[i+j+1] # [i] = 0 where as [i+j+1] = 1 for the first run, while still inside inner (j) loop, [i] remains 0 while [i+j+1] increases by 1 in every iteration \n",
        "      if(sum_two_no == x): \n",
        "        flag = True\n",
        "        break\n",
        "    if flag == True: break\n",
        "  return (flag)\n"
      ],
      "execution_count": null,
      "outputs": []
    },
    {
      "cell_type": "markdown",
      "metadata": {
        "id": "T-4G-2ftMrA0",
        "colab_type": "text"
      },
      "source": [
        "Method 2: Sort and two pointers"
      ]
    },
    {
      "cell_type": "code",
      "metadata": {
        "id": "qMp3fhVaNPl-",
        "colab_type": "code",
        "colab": {}
      },
      "source": [
        "def m2_srt_2p(array, x):\n",
        "  \n",
        "  #sorting the array\n",
        "  array.sort() \n",
        "  \n",
        "  #utilizing two pointers\n",
        "  l_pointer = 0 # left/starting pointer\n",
        "  r_pointer = -1 # right/ending pointer\n",
        " \n",
        "  # Implementing loop\n",
        "  while (l_pointer < r_pointer):\n",
        "    sum_two_no = array[l_pointer]+array[r_pointer]\n",
        "    if (sum_two_no == x): \n",
        "      return(True)\n",
        "    elif (sum_two_no > x): r_pointer = r_pointer - 1\n",
        "    else: l_pointer = l_pointer + 1\n",
        "  return (False)\n"
      ],
      "execution_count": null,
      "outputs": []
    },
    {
      "cell_type": "markdown",
      "metadata": {
        "id": "ZWZZuJK_Wnxy",
        "colab_type": "text"
      },
      "source": [
        "Testing"
      ]
    },
    {
      "cell_type": "code",
      "metadata": {
        "id": "d8EDpHVKNpGu",
        "colab_type": "code",
        "colab": {}
      },
      "source": [
        "a_array = [10,90,2,35,4,5,6,23,44,123,4,6,36,12,3,5,13,23,5,1,235,552,44,12,64,78,34,63,24,67,89,2,11,5,\n",
        "           10,23,4,6,36,12,3,5,13,23,5,1,235,5590,2,35,4,5,6,23,44,12,4423,4,6,36,12,3,5,13,23,5,1,235,55,12,64,78,34,63,24,67,89,2,11,5,\n",
        "           10,90,2,35,4,5,623,4,6,36,12,3,5,13,23,5,1,235,55,23,44,12,44,12,64,78,34,63,24,67,89,2,11,5,\n",
        "           23,42,14,55,112,56,123,435,6,135,6123,4,6,36,12,3,5,13,23,5,1,235,55]\n"
      ],
      "execution_count": null,
      "outputs": []
    },
    {
      "cell_type": "markdown",
      "metadata": {
        "id": "nG5Zkg2fCCt_",
        "colab_type": "text"
      },
      "source": [
        "Let us determine which of the two functions are more efficient (time wise i.e. faster)"
      ]
    },
    {
      "cell_type": "code",
      "metadata": {
        "id": "b64LYB_TTOm0",
        "colab_type": "code",
        "colab": {}
      },
      "source": [
        "m1_test = [] # array to store the runtime\n",
        "for i in range (100): \n",
        "  start_time = dt.datetime.now().microsecond \n",
        "  m1_bf(a_array,10000)# Calling 1st method\n",
        "  end_time = dt.datetime.now().microsecond - start_time\n",
        "  m1_test.append(end_time)\n"
      ],
      "execution_count": null,
      "outputs": []
    },
    {
      "cell_type": "code",
      "metadata": {
        "id": "JrhoYfqfNVEt",
        "colab_type": "code",
        "colab": {}
      },
      "source": [
        "m2_test = []  # array to store the runtime\n",
        "for i in range (100): \n",
        "  start_time = dt.datetime.now().microsecond \n",
        "  m2_srt_2p(a_array,10000)# Calling 1st method\n",
        "  end_time = dt.datetime.now().microsecond - start_time\n",
        "  m2_test.append(end_time)\n"
      ],
      "execution_count": null,
      "outputs": []
    },
    {
      "cell_type": "code",
      "metadata": {
        "id": "gzH1UEhdDk95",
        "colab_type": "code",
        "colab": {
          "base_uri": "https://localhost:8080/",
          "height": 35
        },
        "outputId": "65cb13c4-e1e2-4789-fb6e-8161b9cda8f9"
      },
      "source": [
        "len(m1_test), len(m2_test)"
      ],
      "execution_count": null,
      "outputs": [
        {
          "output_type": "execute_result",
          "data": {
            "text/plain": [
              "(100, 100)"
            ]
          },
          "metadata": {
            "tags": []
          },
          "execution_count": 28
        }
      ]
    },
    {
      "cell_type": "code",
      "metadata": {
        "id": "OfAsN9MeYXbu",
        "colab_type": "code",
        "colab": {
          "base_uri": "https://localhost:8080/",
          "height": 35
        },
        "outputId": "7cf65033-c9ad-4658-80ca-147a931575dd"
      },
      "source": [
        "mean(m1_test), mean(m2_test)"
      ],
      "execution_count": null,
      "outputs": [
        {
          "output_type": "execute_result",
          "data": {
            "text/plain": [
              "(2060.41, 2.75)"
            ]
          },
          "metadata": {
            "tags": []
          },
          "execution_count": 29
        }
      ]
    },
    {
      "cell_type": "code",
      "metadata": {
        "id": "dntDC33abtmu",
        "colab_type": "code",
        "colab": {
          "base_uri": "https://localhost:8080/",
          "height": 35
        },
        "outputId": "5f85bad9-530b-4fdb-ef54-7d59b15ee8a8"
      },
      "source": [
        "# Perform a t-test at alpha = 0.01\n",
        "from scipy import stats\n",
        "rslt = stats.ttest_ind(m1_test, m2_test)\n",
        "rslt"
      ],
      "execution_count": null,
      "outputs": [
        {
          "output_type": "execute_result",
          "data": {
            "text/plain": [
              "Ttest_indResult(statistic=46.10808717158911, pvalue=7.68229617226446e-108)"
            ]
          },
          "metadata": {
            "tags": []
          },
          "execution_count": 37
        }
      ]
    },
    {
      "cell_type": "code",
      "metadata": {
        "id": "DTmhboJzEIIU",
        "colab_type": "code",
        "colab": {
          "base_uri": "https://localhost:8080/",
          "height": 52
        },
        "outputId": "9561aa65-b17c-46af-9638-79dbdca8ada4"
      },
      "source": [
        "print (\"the p-value is\", rslt[1:3], \"which is < 0.01\")\n",
        "print (\"and, the t-statistic is positive\", rslt[0:1])"
      ],
      "execution_count": null,
      "outputs": [
        {
          "output_type": "stream",
          "text": [
            "the p-value is (7.68229617226446e-108,) which is < 0.01\n",
            "and, the t-statistic is positive (46.10808717158911,)\n"
          ],
          "name": "stdout"
        }
      ]
    },
    {
      "cell_type": "markdown",
      "metadata": {
        "id": "pDrk7xsaE5mZ",
        "colab_type": "text"
      },
      "source": [
        "That is why I chose the second method"
      ]
    }
  ]
}