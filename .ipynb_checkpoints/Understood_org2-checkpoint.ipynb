{
 "cells": [
  {
   "cell_type": "markdown",
   "metadata": {
    "colab_type": "text",
    "id": "view-in-github"
   },
   "source": [
    "<a href=\"https://colab.research.google.com/github/TashiNyangmi/Understood/blob/master/Understood_org2.ipynb\" target=\"_parent\"><img src=\"https://colab.research.google.com/assets/colab-badge.svg\" alt=\"Open In Colab\"/></a>"
   ]
  },
  {
   "cell_type": "markdown",
   "metadata": {
    "colab_type": "text",
    "id": "lcejVFIufIwJ"
   },
   "source": [
    "08/06/2020\n",
    "Thursday\n",
    "Understood Take Home"
   ]
  },
  {
   "cell_type": "markdown",
   "metadata": {
    "colab_type": "text",
    "id": "IHBwxQn_FZXt"
   },
   "source": [
    "Contents\n",
    "```\n",
    "1.Setting up the Environment: Importing Libraries and Dataset\n",
    "2. User Defined Functions\n",
    "3. EDA\n",
    "     3.1) Preliminary EDA\n",
    "     3.2) Histogram of all Variables\n",
    "     3.3) Box plots, & Pairpolots\n",
    "     3.4) Heatmap\n",
    "     3.5) High School education vs work status\n",
    "4. Hypotheses\n",
    "     4.1) Hypothesis #1\n",
    "          4.1.1) Test\n",
    "          4.1.2) Visualization\n",
    "     4.2) Hypothesis #1\n",
    "          4.2.1) Test\n",
    "          4.2.2) Visualization\n",
    "          4.2.3) Optional Further Analysis\n",
    "     4.3) Hypothesis #1\n",
    "          4.3.1) Test\n",
    "          4.3.2) Visualization\n",
    "\n",
    "```"
   ]
  },
  {
   "cell_type": "markdown",
   "metadata": {
    "colab_type": "text",
    "id": "Rg3HgoiilssU"
   },
   "source": [
    "# 1) Setting up the Environment: Importing Libraries and Dataset"
   ]
  },
  {
   "cell_type": "code",
   "execution_count": 1,
   "metadata": {
    "colab": {
     "base_uri": "https://localhost:8080/",
     "height": 52
    },
    "colab_type": "code",
    "id": "Kuh8fFxIfvJh",
    "outputId": "dfa326de-779f-43a0-cf93-2c0c4d4ec78b"
   },
   "outputs": [],
   "source": [
    "# Importing libraries\n",
    "import pandas as pd #used\n",
    "import numpy as np \n",
    "\n",
    "import matplotlib.pyplot as plt # visualization\n",
    "import matplotlib\n",
    "font = {'family' : 'normal',\n",
    "        'weight' : 'normal',\n",
    "        'size'   : 22}\n",
    "matplotlib.rc('font', **font)\n",
    "%matplotlib inline \n",
    "# |^| causes the plots to appear inline and remain in the document\n",
    "\n",
    "import seaborn as sns # visualization\n",
    "\n",
    "from scipy import stats # for t-test"
   ]
  },
  {
   "cell_type": "code",
   "execution_count": 2,
   "metadata": {
    "colab": {
     "base_uri": "https://localhost:8080/",
     "height": 200
    },
    "colab_type": "code",
    "id": "ECiKQIxCcWbf",
    "outputId": "3f05aee7-abb3-4159-8f93-0e719b2278b3"
   },
   "outputs": [
    {
     "data": {
      "text/html": [
       "<div>\n",
       "<style scoped>\n",
       "    .dataframe tbody tr th:only-of-type {\n",
       "        vertical-align: middle;\n",
       "    }\n",
       "\n",
       "    .dataframe tbody tr th {\n",
       "        vertical-align: top;\n",
       "    }\n",
       "\n",
       "    .dataframe thead th {\n",
       "        text-align: right;\n",
       "    }\n",
       "</style>\n",
       "<table border=\"1\" class=\"dataframe\">\n",
       "  <thead>\n",
       "    <tr style=\"text-align: right;\">\n",
       "      <th></th>\n",
       "      <th>Unnamed: 0</th>\n",
       "      <th>work</th>\n",
       "      <th>hoursw</th>\n",
       "      <th>child6</th>\n",
       "      <th>child618</th>\n",
       "      <th>agew</th>\n",
       "      <th>educw</th>\n",
       "      <th>hearnw</th>\n",
       "      <th>wagew</th>\n",
       "      <th>hoursh</th>\n",
       "      <th>ageh</th>\n",
       "      <th>educh</th>\n",
       "      <th>wageh</th>\n",
       "      <th>income</th>\n",
       "      <th>educwm</th>\n",
       "      <th>educwf</th>\n",
       "      <th>unemprate</th>\n",
       "      <th>city</th>\n",
       "      <th>experience</th>\n",
       "    </tr>\n",
       "  </thead>\n",
       "  <tbody>\n",
       "    <tr>\n",
       "      <th>0</th>\n",
       "      <td>1</td>\n",
       "      <td>no</td>\n",
       "      <td>1610</td>\n",
       "      <td>1</td>\n",
       "      <td>0</td>\n",
       "      <td>32</td>\n",
       "      <td>12</td>\n",
       "      <td>3.3540</td>\n",
       "      <td>2.65</td>\n",
       "      <td>2708</td>\n",
       "      <td>34</td>\n",
       "      <td>12</td>\n",
       "      <td>4.0288</td>\n",
       "      <td>16310</td>\n",
       "      <td>12</td>\n",
       "      <td>7</td>\n",
       "      <td>5.0</td>\n",
       "      <td>no</td>\n",
       "      <td>14</td>\n",
       "    </tr>\n",
       "    <tr>\n",
       "      <th>1</th>\n",
       "      <td>2</td>\n",
       "      <td>no</td>\n",
       "      <td>1656</td>\n",
       "      <td>0</td>\n",
       "      <td>2</td>\n",
       "      <td>30</td>\n",
       "      <td>12</td>\n",
       "      <td>1.3889</td>\n",
       "      <td>2.65</td>\n",
       "      <td>2310</td>\n",
       "      <td>30</td>\n",
       "      <td>9</td>\n",
       "      <td>8.4416</td>\n",
       "      <td>21800</td>\n",
       "      <td>7</td>\n",
       "      <td>7</td>\n",
       "      <td>11.0</td>\n",
       "      <td>yes</td>\n",
       "      <td>5</td>\n",
       "    </tr>\n",
       "    <tr>\n",
       "      <th>2</th>\n",
       "      <td>3</td>\n",
       "      <td>no</td>\n",
       "      <td>1980</td>\n",
       "      <td>1</td>\n",
       "      <td>3</td>\n",
       "      <td>35</td>\n",
       "      <td>12</td>\n",
       "      <td>4.5455</td>\n",
       "      <td>4.04</td>\n",
       "      <td>3072</td>\n",
       "      <td>40</td>\n",
       "      <td>12</td>\n",
       "      <td>3.5807</td>\n",
       "      <td>21040</td>\n",
       "      <td>12</td>\n",
       "      <td>7</td>\n",
       "      <td>5.0</td>\n",
       "      <td>no</td>\n",
       "      <td>15</td>\n",
       "    </tr>\n",
       "    <tr>\n",
       "      <th>3</th>\n",
       "      <td>4</td>\n",
       "      <td>no</td>\n",
       "      <td>456</td>\n",
       "      <td>0</td>\n",
       "      <td>3</td>\n",
       "      <td>34</td>\n",
       "      <td>12</td>\n",
       "      <td>1.0965</td>\n",
       "      <td>3.25</td>\n",
       "      <td>1920</td>\n",
       "      <td>53</td>\n",
       "      <td>10</td>\n",
       "      <td>3.5417</td>\n",
       "      <td>7300</td>\n",
       "      <td>7</td>\n",
       "      <td>7</td>\n",
       "      <td>5.0</td>\n",
       "      <td>no</td>\n",
       "      <td>6</td>\n",
       "    </tr>\n",
       "    <tr>\n",
       "      <th>4</th>\n",
       "      <td>5</td>\n",
       "      <td>no</td>\n",
       "      <td>1568</td>\n",
       "      <td>1</td>\n",
       "      <td>2</td>\n",
       "      <td>31</td>\n",
       "      <td>14</td>\n",
       "      <td>4.5918</td>\n",
       "      <td>3.60</td>\n",
       "      <td>2000</td>\n",
       "      <td>32</td>\n",
       "      <td>12</td>\n",
       "      <td>10.0000</td>\n",
       "      <td>27300</td>\n",
       "      <td>12</td>\n",
       "      <td>14</td>\n",
       "      <td>9.5</td>\n",
       "      <td>yes</td>\n",
       "      <td>7</td>\n",
       "    </tr>\n",
       "  </tbody>\n",
       "</table>\n",
       "</div>"
      ],
      "text/plain": [
       "   Unnamed: 0 work  hoursw  child6  child618  agew  educw  hearnw  wagew  \\\n",
       "0           1   no    1610       1         0    32     12  3.3540   2.65   \n",
       "1           2   no    1656       0         2    30     12  1.3889   2.65   \n",
       "2           3   no    1980       1         3    35     12  4.5455   4.04   \n",
       "3           4   no     456       0         3    34     12  1.0965   3.25   \n",
       "4           5   no    1568       1         2    31     14  4.5918   3.60   \n",
       "\n",
       "   hoursh  ageh  educh    wageh  income  educwm  educwf  unemprate city  \\\n",
       "0    2708    34     12   4.0288   16310      12       7        5.0   no   \n",
       "1    2310    30      9   8.4416   21800       7       7       11.0  yes   \n",
       "2    3072    40     12   3.5807   21040      12       7        5.0   no   \n",
       "3    1920    53     10   3.5417    7300       7       7        5.0   no   \n",
       "4    2000    32     12  10.0000   27300      12      14        9.5  yes   \n",
       "\n",
       "   experience  \n",
       "0          14  \n",
       "1           5  \n",
       "2          15  \n",
       "3           6  \n",
       "4           7  "
      ]
     },
     "execution_count": 2,
     "metadata": {},
     "output_type": "execute_result"
    }
   ],
   "source": [
    "# Importing dataset from Github\n",
    "url = 'https://raw.githubusercontent.com/TashiNyangmi/Understood/master/Mroz.csv' #uploaded the dataset to my [\"TashiNyangmi's\"] personal Github\n",
    "df_org = pd.read_csv(url)\n",
    "df_org.head() # to check if the import worked"
   ]
  },
  {
   "cell_type": "code",
   "execution_count": 3,
   "metadata": {
    "colab": {},
    "colab_type": "code",
    "id": "57Y3VY41f7n4"
   },
   "outputs": [],
   "source": [
    "# Data Dictionary\n",
    "\n",
    "# URL to data dictionaries:\n",
    "# Dr. Ronen provided: https://www.rdocumentation.org/packages/npsf/versions/0.4.2/topics/mroz !!! variable names(documentation vs dataset provided) did not match, although they were somewhat similar\n",
    "# I used : https://rdrr.io/rforge/Ecdat/man/Mroz.html  << because the variable names provided in this data dictionary matched the variables names in the dataset\n",
    "\n",
    "# Defining the data dictionary\n",
    "data_dict = { 'work'    : 'if in labor force in 1975', # exception: here used value of the key \"inlf\" from link Dr. Ronen provided (original value = Work at home in 1975?)\n",
    "              'hoursw'  : 'wife\\'s hours of work in 1975',\n",
    "              'child6'  : '# of childredn below 6',\n",
    "              'child618': '# of childredn between 6 and 18',\n",
    "              'agew'    : 'wife\\'s age',\n",
    "              'educw'   : 'wife\\'s educaitonal attainment in years',\n",
    "              'hearnw'  : 'wife\\'s average hourly earnings, in 1975 $',\n",
    "              'wagew'   : 'wife\\'s wage reported at the time of the 1976 interview',\n",
    "              'hoursh'  : 'husband\\'s hours worked in 1975',\n",
    "              'ageh'    : 'husband\\'s age',\n",
    "              'educh'   : 'husband\\'s educational attainment, in years',\n",
    "              'wageh'   : 'husband\\'s wage, in 1975 dollars',\n",
    "              'income'  : 'family income, in 1975 dollars',\n",
    "              'educwm'  : 'wife\\'s mother\\'s educational attainment, in years',\n",
    "              'educwf'  : 'wife\\'s father\\'s educational attainment, in years',\n",
    "              'unemprate': 'unemployment rate in country of residence, in percentage points',\n",
    "              'city'    : 'lives in large city (SMSA)?',\n",
    "              'experience' : 'actual years of wife\\'s previous labor market experience'}"
   ]
  },
  {
   "cell_type": "code",
   "execution_count": 4,
   "metadata": {
    "colab": {},
    "colab_type": "code",
    "id": "izGyllMThtye"
   },
   "outputs": [],
   "source": [
    "# List of attributes provided in the instructions\n",
    "col_list = ['work','child6','child618','agew','educw','ageh','educh','educwm', 'educwf','unemprate','city']"
   ]
  },
  {
   "cell_type": "code",
   "execution_count": 5,
   "metadata": {
    "colab": {},
    "colab_type": "code",
    "id": "zQ6RsRQJhxc5"
   },
   "outputs": [],
   "source": [
    "# Limiting/Slicing the dataset to provided attributes (as instructed)\n",
    "df = df_org[col_list].copy()"
   ]
  },
  {
   "cell_type": "code",
   "execution_count": 6,
   "metadata": {
    "colab": {
     "base_uri": "https://localhost:8080/",
     "height": 200
    },
    "colab_type": "code",
    "id": "91fe7VzATHAd",
    "outputId": "e94034fc-079d-4bdb-9faf-abedf269151f"
   },
   "outputs": [
    {
     "data": {
      "text/html": [
       "<div>\n",
       "<style scoped>\n",
       "    .dataframe tbody tr th:only-of-type {\n",
       "        vertical-align: middle;\n",
       "    }\n",
       "\n",
       "    .dataframe tbody tr th {\n",
       "        vertical-align: top;\n",
       "    }\n",
       "\n",
       "    .dataframe thead th {\n",
       "        text-align: right;\n",
       "    }\n",
       "</style>\n",
       "<table border=\"1\" class=\"dataframe\">\n",
       "  <thead>\n",
       "    <tr style=\"text-align: right;\">\n",
       "      <th></th>\n",
       "      <th>work</th>\n",
       "      <th>child6</th>\n",
       "      <th>child618</th>\n",
       "      <th>agew</th>\n",
       "      <th>educw</th>\n",
       "      <th>ageh</th>\n",
       "      <th>educh</th>\n",
       "      <th>educwm</th>\n",
       "      <th>educwf</th>\n",
       "      <th>unemprate</th>\n",
       "      <th>city</th>\n",
       "    </tr>\n",
       "  </thead>\n",
       "  <tbody>\n",
       "    <tr>\n",
       "      <th>0</th>\n",
       "      <td>no</td>\n",
       "      <td>1</td>\n",
       "      <td>0</td>\n",
       "      <td>32</td>\n",
       "      <td>12</td>\n",
       "      <td>34</td>\n",
       "      <td>12</td>\n",
       "      <td>12</td>\n",
       "      <td>7</td>\n",
       "      <td>5.0</td>\n",
       "      <td>no</td>\n",
       "    </tr>\n",
       "    <tr>\n",
       "      <th>1</th>\n",
       "      <td>no</td>\n",
       "      <td>0</td>\n",
       "      <td>2</td>\n",
       "      <td>30</td>\n",
       "      <td>12</td>\n",
       "      <td>30</td>\n",
       "      <td>9</td>\n",
       "      <td>7</td>\n",
       "      <td>7</td>\n",
       "      <td>11.0</td>\n",
       "      <td>yes</td>\n",
       "    </tr>\n",
       "    <tr>\n",
       "      <th>2</th>\n",
       "      <td>no</td>\n",
       "      <td>1</td>\n",
       "      <td>3</td>\n",
       "      <td>35</td>\n",
       "      <td>12</td>\n",
       "      <td>40</td>\n",
       "      <td>12</td>\n",
       "      <td>12</td>\n",
       "      <td>7</td>\n",
       "      <td>5.0</td>\n",
       "      <td>no</td>\n",
       "    </tr>\n",
       "    <tr>\n",
       "      <th>3</th>\n",
       "      <td>no</td>\n",
       "      <td>0</td>\n",
       "      <td>3</td>\n",
       "      <td>34</td>\n",
       "      <td>12</td>\n",
       "      <td>53</td>\n",
       "      <td>10</td>\n",
       "      <td>7</td>\n",
       "      <td>7</td>\n",
       "      <td>5.0</td>\n",
       "      <td>no</td>\n",
       "    </tr>\n",
       "    <tr>\n",
       "      <th>4</th>\n",
       "      <td>no</td>\n",
       "      <td>1</td>\n",
       "      <td>2</td>\n",
       "      <td>31</td>\n",
       "      <td>14</td>\n",
       "      <td>32</td>\n",
       "      <td>12</td>\n",
       "      <td>12</td>\n",
       "      <td>14</td>\n",
       "      <td>9.5</td>\n",
       "      <td>yes</td>\n",
       "    </tr>\n",
       "  </tbody>\n",
       "</table>\n",
       "</div>"
      ],
      "text/plain": [
       "  work  child6  child618  agew  educw  ageh  educh  educwm  educwf  unemprate  \\\n",
       "0   no       1         0    32     12    34     12      12       7        5.0   \n",
       "1   no       0         2    30     12    30      9       7       7       11.0   \n",
       "2   no       1         3    35     12    40     12      12       7        5.0   \n",
       "3   no       0         3    34     12    53     10       7       7        5.0   \n",
       "4   no       1         2    31     14    32     12      12      14        9.5   \n",
       "\n",
       "  city  \n",
       "0   no  \n",
       "1  yes  \n",
       "2   no  \n",
       "3   no  \n",
       "4  yes  "
      ]
     },
     "execution_count": 6,
     "metadata": {},
     "output_type": "execute_result"
    }
   ],
   "source": [
    "# Check if df is copied correctly\n",
    "df.head()"
   ]
  },
  {
   "cell_type": "markdown",
   "metadata": {
    "colab_type": "text",
    "id": "oaa2c_LPRWUF"
   },
   "source": [
    "# 2) User Defined Functions"
   ]
  },
  {
   "cell_type": "code",
   "execution_count": 7,
   "metadata": {
    "colab": {},
    "colab_type": "code",
    "id": "rYA1l9QIRZG_"
   },
   "outputs": [],
   "source": [
    "# function to divide a dataframe into 2 slices according to a cutoff on a column\n",
    "def col_split_cutoff (df, column, cutoff):\n",
    "  equal_more = df[df[column] >= cutoff].copy() # atleast cutoff \n",
    "  less = df[df[column] < cutoff].copy() # less than cutoff \n",
    "  return(equal_more, less)"
   ]
  },
  {
   "cell_type": "code",
   "execution_count": 8,
   "metadata": {
    "colab": {},
    "colab_type": "code",
    "id": "OS4X_g_3Rz4G"
   },
   "outputs": [],
   "source": [
    "# function to divide a dataframe into 2 slice according to a boolean column\n",
    "def col_split_bool (df, column, n, y):\n",
    "  negative = df[df[column] == n].copy()\n",
    "  positive = df[df[column] == y].copy()\n",
    "  return(negative, positive)"
   ]
  },
  {
   "cell_type": "code",
   "execution_count": 9,
   "metadata": {
    "colab": {},
    "colab_type": "code",
    "id": "AiB_HttiRibk"
   },
   "outputs": [],
   "source": [
    "# function to replace string boolean columns with 1/0\n",
    "def to_binary (df, col, y, n):\n",
    "  df[col] = df[col].replace(n,0)\n",
    "  df[col] = df[col].replace(y,1)"
   ]
  },
  {
   "cell_type": "markdown",
   "metadata": {},
   "source": [
    "    Logistic Regression\n",
    "    "
   ]
  },
  {
   "cell_type": "code",
   "execution_count": 35,
   "metadata": {},
   "outputs": [],
   "source": [
    "from sklearn.linear_model import LogisticRegression\n",
    "from sklearn.model_selection import train_test_split\n",
    "from sklearn.metrics import accuracy_score, precision_score, recall_score, f1_score, confusion_matrix"
   ]
  },
  {
   "cell_type": "code",
   "execution_count": 66,
   "metadata": {},
   "outputs": [
    {
     "data": {
      "text/plain": [
       "work          object\n",
       "child6         int64\n",
       "child618       int64\n",
       "agew           int64\n",
       "educw          int64\n",
       "ageh           int64\n",
       "educh          int64\n",
       "educwm         int64\n",
       "educwf         int64\n",
       "unemprate    float64\n",
       "city          object\n",
       "dtype: object"
      ]
     },
     "execution_count": 66,
     "metadata": {},
     "output_type": "execute_result"
    }
   ],
   "source": [
    "df.dtypes"
   ]
  },
  {
   "cell_type": "code",
   "execution_count": 136,
   "metadata": {},
   "outputs": [],
   "source": [
    "df_lr = pd.get_dummies(df, columns = [\"work\", \"city\"], drop_first = True)"
   ]
  },
  {
   "cell_type": "code",
   "execution_count": 139,
   "metadata": {},
   "outputs": [
    {
     "data": {
      "text/html": [
       "<div>\n",
       "<style scoped>\n",
       "    .dataframe tbody tr th:only-of-type {\n",
       "        vertical-align: middle;\n",
       "    }\n",
       "\n",
       "    .dataframe tbody tr th {\n",
       "        vertical-align: top;\n",
       "    }\n",
       "\n",
       "    .dataframe thead th {\n",
       "        text-align: right;\n",
       "    }\n",
       "</style>\n",
       "<table border=\"1\" class=\"dataframe\">\n",
       "  <thead>\n",
       "    <tr style=\"text-align: right;\">\n",
       "      <th></th>\n",
       "      <th>child6</th>\n",
       "      <th>child618</th>\n",
       "      <th>agew</th>\n",
       "      <th>educw</th>\n",
       "      <th>ageh</th>\n",
       "      <th>educh</th>\n",
       "      <th>educwm</th>\n",
       "      <th>educwf</th>\n",
       "      <th>unemprate</th>\n",
       "      <th>work_yes</th>\n",
       "      <th>city_yes</th>\n",
       "    </tr>\n",
       "  </thead>\n",
       "  <tbody>\n",
       "    <tr>\n",
       "      <th>0</th>\n",
       "      <td>1</td>\n",
       "      <td>0</td>\n",
       "      <td>32</td>\n",
       "      <td>12</td>\n",
       "      <td>34</td>\n",
       "      <td>12</td>\n",
       "      <td>12</td>\n",
       "      <td>7</td>\n",
       "      <td>5.0</td>\n",
       "      <td>0</td>\n",
       "      <td>0</td>\n",
       "    </tr>\n",
       "    <tr>\n",
       "      <th>1</th>\n",
       "      <td>0</td>\n",
       "      <td>2</td>\n",
       "      <td>30</td>\n",
       "      <td>12</td>\n",
       "      <td>30</td>\n",
       "      <td>9</td>\n",
       "      <td>7</td>\n",
       "      <td>7</td>\n",
       "      <td>11.0</td>\n",
       "      <td>0</td>\n",
       "      <td>1</td>\n",
       "    </tr>\n",
       "    <tr>\n",
       "      <th>2</th>\n",
       "      <td>1</td>\n",
       "      <td>3</td>\n",
       "      <td>35</td>\n",
       "      <td>12</td>\n",
       "      <td>40</td>\n",
       "      <td>12</td>\n",
       "      <td>12</td>\n",
       "      <td>7</td>\n",
       "      <td>5.0</td>\n",
       "      <td>0</td>\n",
       "      <td>0</td>\n",
       "    </tr>\n",
       "    <tr>\n",
       "      <th>3</th>\n",
       "      <td>0</td>\n",
       "      <td>3</td>\n",
       "      <td>34</td>\n",
       "      <td>12</td>\n",
       "      <td>53</td>\n",
       "      <td>10</td>\n",
       "      <td>7</td>\n",
       "      <td>7</td>\n",
       "      <td>5.0</td>\n",
       "      <td>0</td>\n",
       "      <td>0</td>\n",
       "    </tr>\n",
       "    <tr>\n",
       "      <th>4</th>\n",
       "      <td>1</td>\n",
       "      <td>2</td>\n",
       "      <td>31</td>\n",
       "      <td>14</td>\n",
       "      <td>32</td>\n",
       "      <td>12</td>\n",
       "      <td>12</td>\n",
       "      <td>14</td>\n",
       "      <td>9.5</td>\n",
       "      <td>0</td>\n",
       "      <td>1</td>\n",
       "    </tr>\n",
       "  </tbody>\n",
       "</table>\n",
       "</div>"
      ],
      "text/plain": [
       "   child6  child618  agew  educw  ageh  educh  educwm  educwf  unemprate  \\\n",
       "0       1         0    32     12    34     12      12       7        5.0   \n",
       "1       0         2    30     12    30      9       7       7       11.0   \n",
       "2       1         3    35     12    40     12      12       7        5.0   \n",
       "3       0         3    34     12    53     10       7       7        5.0   \n",
       "4       1         2    31     14    32     12      12      14        9.5   \n",
       "\n",
       "   work_yes  city_yes  \n",
       "0         0         0  \n",
       "1         0         1  \n",
       "2         0         0  \n",
       "3         0         0  \n",
       "4         0         1  "
      ]
     },
     "execution_count": 139,
     "metadata": {},
     "output_type": "execute_result"
    }
   ],
   "source": [
    "df_lr.head()"
   ]
  },
  {
   "cell_type": "code",
   "execution_count": 148,
   "metadata": {},
   "outputs": [],
   "source": [
    "model = LogisticRegression()\n",
    "#selected_features = df_lr.columns.tolist()\n",
    "#selected_features.remove(\"work_yes\")\n",
    "\n",
    "#X = df_lr[selected_features]\n",
    "\n",
    "X = df_lr[[\"child6\", \"city_yes\",\"educw\"]]\n",
    "y = df_lr[\"work_yes\"]"
   ]
  },
  {
   "cell_type": "code",
   "execution_count": 149,
   "metadata": {},
   "outputs": [],
   "source": [
    "# split the data\n",
    "X_train, X_test, y_train, y_test = train_test_split(X, y, test_size = 0.2, random_state = 23)"
   ]
  },
  {
   "cell_type": "code",
   "execution_count": 150,
   "metadata": {},
   "outputs": [
    {
     "data": {
      "text/plain": [
       "LogisticRegression()"
      ]
     },
     "execution_count": 150,
     "metadata": {},
     "output_type": "execute_result"
    }
   ],
   "source": [
    "# train the model\n",
    "model.fit(X_train, y_train)"
   ]
  },
  {
   "cell_type": "code",
   "execution_count": 151,
   "metadata": {},
   "outputs": [],
   "source": [
    "y_pred = model.predict(X_test)"
   ]
  },
  {
   "cell_type": "code",
   "execution_count": 152,
   "metadata": {},
   "outputs": [
    {
     "name": "stdout",
     "output_type": "stream",
     "text": [
      "Accuracy Score: 0.635762\n",
      "Precision Score: 0.560976\n",
      "Recall Score: 0.383333\n",
      "F1 Score 0.455446\n"
     ]
    }
   ],
   "source": [
    "# Metrics\n",
    "\n",
    "# Calculate our accuracy\n",
    "accuracy = accuracy_score(y_test, y_pred)\n",
    "\n",
    "# Calculate our precision score\n",
    "precision = precision_score(y_test,y_pred)\n",
    "\n",
    "# Calculate our recall score\n",
    "recall = recall_score(y_test, y_pred)\n",
    "\n",
    "f1 = f1_score(y_test, y_pred)\n",
    "\n",
    "# Print each of our scores to inspect performance.\n",
    "print(\"Accuracy Score: %f\" % accuracy)\n",
    "print(\"Precision Score: %f\" % precision)\n",
    "print(\"Recall Score: %f\" % recall)\n",
    "print('F1 Score %f' % f1)"
   ]
  },
  {
   "cell_type": "code",
   "execution_count": null,
   "metadata": {},
   "outputs": [],
   "source": [
    "# Using all features\n",
    "# Accuracy Score: 0.615894\n",
    "# Precision Score: 0.519231\n",
    "# Recall Score: 0.450000\n",
    "# F1 Score 0.482143"
   ]
  },
  {
   "cell_type": "code",
   "execution_count": null,
   "metadata": {},
   "outputs": [],
   "source": [
    "# Using child6, educw, and city_yes\n",
    "# Accuracy Score: 0.635762\n",
    "# Precision Score: 0.560976\n",
    "# Recall Score: 0.383333\n",
    "# F1 Score 0.455446"
   ]
  },
  {
   "cell_type": "code",
   "execution_count": 153,
   "metadata": {},
   "outputs": [],
   "source": [
    "# Comparision\n",
    "# Accuracy Score higher\n",
    "# Precision Score higher\n",
    "# Recall Score lower\n",
    "# F1 Score lower"
   ]
  },
  {
   "cell_type": "code",
   "execution_count": 107,
   "metadata": {},
   "outputs": [
    {
     "data": {
      "text/plain": [
       "no     56.839309\n",
       "yes    43.160691\n",
       "Name: work, dtype: float64"
      ]
     },
     "execution_count": 107,
     "metadata": {},
     "output_type": "execute_result"
    }
   ],
   "source": [
    "df[\"work\"].value_counts(normalize = True)* 100"
   ]
  },
  {
   "cell_type": "raw",
   "metadata": {},
   "source": [
    "Forward Stepwise variable selection"
   ]
  },
  {
   "cell_type": "code",
   "execution_count": 2,
   "metadata": {},
   "outputs": [],
   "source": [
    "# Some Functions\n",
    "def auc (current_variables, candidate_variables, target, db):\n",
    "    X = df [features]\n",
    "    y = df [target]\n",
    "    model = LogisticRegression ( )\n",
    "    X_train, X_test, y_train, y_test  = train_test_split(X, y, test_size = 0.2, random_state = 23)\n",
    "    model.fit ( X_train, y_train )\n",
    "    y_pred = model.predict(X_test)\n",
    "    auc = roc_auc_score(y_test, y_pred)\n",
    "    return (auc)\n",
    "\n",
    "# auc = auc ([“age”, “gender_F”], [“target”], df)\n",
    "\n",
    "\n",
    "\n"
   ]
  },
  {
   "cell_type": "code",
   "execution_count": null,
   "metadata": {},
   "outputs": [],
   "source": [
    "# Test above function\n"
   ]
  },
  {
   "cell_type": "code",
   "execution_count": null,
   "metadata": {},
   "outputs": [],
   "source": [
    "def next_best (current_variables, candidate variables, target, basetable):\n",
    "current_auc = auc(current_variables, target, basetable)\n",
    "for i in candidate_variables:\n",
    "\tvariables = current_variables + i\n",
    "\tauc = (variables, target, basetable)\n",
    "\tif auc > current_auc: \n",
    "                   current_auc = auc\n",
    "                   best_variable = i\n",
    "return(i)\n"
   ]
  },
  {
   "cell_type": "raw",
   "metadata": {},
   "source": [
    "Feature Importance"
   ]
  },
  {
   "cell_type": "code",
   "execution_count": 98,
   "metadata": {},
   "outputs": [],
   "source": [
    "coefficients = model.coef_\n",
    "coefficients = coefficients.tolist()[0]"
   ]
  },
  {
   "cell_type": "code",
   "execution_count": 125,
   "metadata": {},
   "outputs": [],
   "source": [
    "result = pd.Series(coefficients, index = selected_features).sort_values(ascending = False)"
   ]
  },
  {
   "cell_type": "code",
   "execution_count": 128,
   "metadata": {},
   "outputs": [
    {
     "data": {
      "text/plain": [
       "<matplotlib.axes._subplots.AxesSubplot at 0x2b36ad275e0>"
      ]
     },
     "execution_count": 128,
     "metadata": {},
     "output_type": "execute_result"
    },
    {
     "data": {
      "image/png": "[encoded data removed]",
      "text/plain": [
       "<Figure size 720x720 with 1 Axes>"
      ]
     },
     "metadata": {
      "needs_background": "light"
     },
     "output_type": "display_data"
    }
   ],
   "source": [
    "plt.figure(figsize=(10,10))\n",
    "sns.barplot(x = result.index, y =result.values )"
   ]
  },
  {
   "cell_type": "code",
   "execution_count": null,
   "metadata": {},
   "outputs": [],
   "source": []
  },
  {
   "cell_type": "markdown",
   "metadata": {
    "colab_type": "text",
    "id": "aGT2HJ4umZit"
   },
   "source": [
    "# 3) EDA"
   ]
  },
  {
   "cell_type": "markdown",
   "metadata": {
    "colab_type": "text",
    "id": "fg2peYLnl7fF"
   },
   "source": [
    "### 3.1) Preliminary EDA"
   ]
  },
  {
   "cell_type": "code",
   "execution_count": 10,
   "metadata": {
    "colab": {
     "base_uri": "https://localhost:8080/"
    },
    "colab_type": "code",
    "id": "RhKKQF74mJnF",
    "outputId": "3c9c2314-42fd-4cc0-acee-a5beae6dc9b2"
   },
   "outputs": [
    {
     "data": {
      "text/html": [
       "<div>\n",
       "<style scoped>\n",
       "    .dataframe tbody tr th:only-of-type {\n",
       "        vertical-align: middle;\n",
       "    }\n",
       "\n",
       "    .dataframe tbody tr th {\n",
       "        vertical-align: top;\n",
       "    }\n",
       "\n",
       "    .dataframe thead th {\n",
       "        text-align: right;\n",
       "    }\n",
       "</style>\n",
       "<table border=\"1\" class=\"dataframe\">\n",
       "  <thead>\n",
       "    <tr style=\"text-align: right;\">\n",
       "      <th></th>\n",
       "      <th>work</th>\n",
       "      <th>child6</th>\n",
       "      <th>child618</th>\n",
       "      <th>agew</th>\n",
       "      <th>educw</th>\n",
       "      <th>ageh</th>\n",
       "      <th>educh</th>\n",
       "      <th>educwm</th>\n",
       "      <th>educwf</th>\n",
       "      <th>unemprate</th>\n",
       "      <th>city</th>\n",
       "    </tr>\n",
       "  </thead>\n",
       "  <tbody>\n",
       "    <tr>\n",
       "      <th>0</th>\n",
       "      <td>no</td>\n",
       "      <td>1</td>\n",
       "      <td>0</td>\n",
       "      <td>32</td>\n",
       "      <td>12</td>\n",
       "      <td>34</td>\n",
       "      <td>12</td>\n",
       "      <td>12</td>\n",
       "      <td>7</td>\n",
       "      <td>5.0</td>\n",
       "      <td>no</td>\n",
       "    </tr>\n",
       "    <tr>\n",
       "      <th>1</th>\n",
       "      <td>no</td>\n",
       "      <td>0</td>\n",
       "      <td>2</td>\n",
       "      <td>30</td>\n",
       "      <td>12</td>\n",
       "      <td>30</td>\n",
       "      <td>9</td>\n",
       "      <td>7</td>\n",
       "      <td>7</td>\n",
       "      <td>11.0</td>\n",
       "      <td>yes</td>\n",
       "    </tr>\n",
       "    <tr>\n",
       "      <th>2</th>\n",
       "      <td>no</td>\n",
       "      <td>1</td>\n",
       "      <td>3</td>\n",
       "      <td>35</td>\n",
       "      <td>12</td>\n",
       "      <td>40</td>\n",
       "      <td>12</td>\n",
       "      <td>12</td>\n",
       "      <td>7</td>\n",
       "      <td>5.0</td>\n",
       "      <td>no</td>\n",
       "    </tr>\n",
       "    <tr>\n",
       "      <th>3</th>\n",
       "      <td>no</td>\n",
       "      <td>0</td>\n",
       "      <td>3</td>\n",
       "      <td>34</td>\n",
       "      <td>12</td>\n",
       "      <td>53</td>\n",
       "      <td>10</td>\n",
       "      <td>7</td>\n",
       "      <td>7</td>\n",
       "      <td>5.0</td>\n",
       "      <td>no</td>\n",
       "    </tr>\n",
       "    <tr>\n",
       "      <th>4</th>\n",
       "      <td>no</td>\n",
       "      <td>1</td>\n",
       "      <td>2</td>\n",
       "      <td>31</td>\n",
       "      <td>14</td>\n",
       "      <td>32</td>\n",
       "      <td>12</td>\n",
       "      <td>12</td>\n",
       "      <td>14</td>\n",
       "      <td>9.5</td>\n",
       "      <td>yes</td>\n",
       "    </tr>\n",
       "  </tbody>\n",
       "</table>\n",
       "</div>"
      ],
      "text/plain": [
       "  work  child6  child618  agew  educw  ageh  educh  educwm  educwf  unemprate  \\\n",
       "0   no       1         0    32     12    34     12      12       7        5.0   \n",
       "1   no       0         2    30     12    30      9       7       7       11.0   \n",
       "2   no       1         3    35     12    40     12      12       7        5.0   \n",
       "3   no       0         3    34     12    53     10       7       7        5.0   \n",
       "4   no       1         2    31     14    32     12      12      14        9.5   \n",
       "\n",
       "  city  \n",
       "0   no  \n",
       "1  yes  \n",
       "2   no  \n",
       "3   no  \n",
       "4  yes  "
      ]
     },
     "execution_count": 10,
     "metadata": {},
     "output_type": "execute_result"
    }
   ],
   "source": [
    "df.head()"
   ]
  },
  {
   "cell_type": "code",
   "execution_count": 11,
   "metadata": {
    "colab": {
     "base_uri": "https://localhost:8080/"
    },
    "colab_type": "code",
    "id": "I2mY_mo3qrfc",
    "outputId": "6973d7d2-365b-486b-a609-be7cb17a1df9"
   },
   "outputs": [
    {
     "data": {
      "text/html": [
       "<div>\n",
       "<style scoped>\n",
       "    .dataframe tbody tr th:only-of-type {\n",
       "        vertical-align: middle;\n",
       "    }\n",
       "\n",
       "    .dataframe tbody tr th {\n",
       "        vertical-align: top;\n",
       "    }\n",
       "\n",
       "    .dataframe thead th {\n",
       "        text-align: right;\n",
       "    }\n",
       "</style>\n",
       "<table border=\"1\" class=\"dataframe\">\n",
       "  <thead>\n",
       "    <tr style=\"text-align: right;\">\n",
       "      <th></th>\n",
       "      <th>work</th>\n",
       "      <th>child6</th>\n",
       "      <th>child618</th>\n",
       "      <th>agew</th>\n",
       "      <th>educw</th>\n",
       "      <th>ageh</th>\n",
       "      <th>educh</th>\n",
       "      <th>educwm</th>\n",
       "      <th>educwf</th>\n",
       "      <th>unemprate</th>\n",
       "      <th>city</th>\n",
       "    </tr>\n",
       "  </thead>\n",
       "  <tbody>\n",
       "    <tr>\n",
       "      <th>748</th>\n",
       "      <td>yes</td>\n",
       "      <td>0</td>\n",
       "      <td>2</td>\n",
       "      <td>40</td>\n",
       "      <td>13</td>\n",
       "      <td>43</td>\n",
       "      <td>16</td>\n",
       "      <td>10</td>\n",
       "      <td>10</td>\n",
       "      <td>9.5</td>\n",
       "      <td>yes</td>\n",
       "    </tr>\n",
       "    <tr>\n",
       "      <th>749</th>\n",
       "      <td>yes</td>\n",
       "      <td>2</td>\n",
       "      <td>3</td>\n",
       "      <td>31</td>\n",
       "      <td>12</td>\n",
       "      <td>33</td>\n",
       "      <td>12</td>\n",
       "      <td>12</td>\n",
       "      <td>12</td>\n",
       "      <td>7.5</td>\n",
       "      <td>no</td>\n",
       "    </tr>\n",
       "    <tr>\n",
       "      <th>750</th>\n",
       "      <td>yes</td>\n",
       "      <td>0</td>\n",
       "      <td>0</td>\n",
       "      <td>43</td>\n",
       "      <td>12</td>\n",
       "      <td>43</td>\n",
       "      <td>12</td>\n",
       "      <td>10</td>\n",
       "      <td>3</td>\n",
       "      <td>7.5</td>\n",
       "      <td>no</td>\n",
       "    </tr>\n",
       "    <tr>\n",
       "      <th>751</th>\n",
       "      <td>yes</td>\n",
       "      <td>0</td>\n",
       "      <td>0</td>\n",
       "      <td>60</td>\n",
       "      <td>12</td>\n",
       "      <td>55</td>\n",
       "      <td>8</td>\n",
       "      <td>12</td>\n",
       "      <td>12</td>\n",
       "      <td>14.0</td>\n",
       "      <td>yes</td>\n",
       "    </tr>\n",
       "    <tr>\n",
       "      <th>752</th>\n",
       "      <td>yes</td>\n",
       "      <td>0</td>\n",
       "      <td>3</td>\n",
       "      <td>39</td>\n",
       "      <td>9</td>\n",
       "      <td>48</td>\n",
       "      <td>12</td>\n",
       "      <td>7</td>\n",
       "      <td>7</td>\n",
       "      <td>11.0</td>\n",
       "      <td>yes</td>\n",
       "    </tr>\n",
       "  </tbody>\n",
       "</table>\n",
       "</div>"
      ],
      "text/plain": [
       "    work  child6  child618  agew  educw  ageh  educh  educwm  educwf  \\\n",
       "748  yes       0         2    40     13    43     16      10      10   \n",
       "749  yes       2         3    31     12    33     12      12      12   \n",
       "750  yes       0         0    43     12    43     12      10       3   \n",
       "751  yes       0         0    60     12    55      8      12      12   \n",
       "752  yes       0         3    39      9    48     12       7       7   \n",
       "\n",
       "     unemprate city  \n",
       "748        9.5  yes  \n",
       "749        7.5   no  \n",
       "750        7.5   no  \n",
       "751       14.0  yes  \n",
       "752       11.0  yes  "
      ]
     },
     "execution_count": 11,
     "metadata": {},
     "output_type": "execute_result"
    }
   ],
   "source": [
    "df.tail()"
   ]
  },
  {
   "cell_type": "code",
   "execution_count": 12,
   "metadata": {
    "colab": {
     "base_uri": "https://localhost:8080/"
    },
    "colab_type": "code",
    "id": "G7nKBe0gmemE",
    "outputId": "068bc615-ce38-4605-ab85-7a950e316070"
   },
   "outputs": [
    {
     "name": "stdout",
     "output_type": "stream",
     "text": [
      "<class 'pandas.core.frame.DataFrame'>\n",
      "RangeIndex: 753 entries, 0 to 752\n",
      "Data columns (total 11 columns):\n",
      " #   Column     Non-Null Count  Dtype  \n",
      "---  ------     --------------  -----  \n",
      " 0   work       753 non-null    object \n",
      " 1   child6     753 non-null    int64  \n",
      " 2   child618   753 non-null    int64  \n",
      " 3   agew       753 non-null    int64  \n",
      " 4   educw      753 non-null    int64  \n",
      " 5   ageh       753 non-null    int64  \n",
      " 6   educh      753 non-null    int64  \n",
      " 7   educwm     753 non-null    int64  \n",
      " 8   educwf     753 non-null    int64  \n",
      " 9   unemprate  753 non-null    float64\n",
      " 10  city       753 non-null    object \n",
      "dtypes: float64(1), int64(8), object(2)\n",
      "memory usage: 64.8+ KB\n"
     ]
    }
   ],
   "source": [
    "df.info()"
   ]
  },
  {
   "cell_type": "code",
   "execution_count": 13,
   "metadata": {
    "colab": {
     "base_uri": "https://localhost:8080/"
    },
    "colab_type": "code",
    "id": "Mk8Wa1ucq-Kd",
    "outputId": "cc3e9030-364a-4ad8-edd3-032634b84f48"
   },
   "outputs": [
    {
     "name": "stdout",
     "output_type": "stream",
     "text": [
      "work\n",
      "['no' 'yes']\n",
      "# of unique variables:  2\n",
      "child6\n",
      "[0 1 2 3]\n",
      "# of unique variables:  3\n",
      "child618\n",
      "[0 1 2 3 4 5 6 7 8]\n",
      "# of unique variables:  8\n",
      "agew\n",
      "[30 31 32 33 34 35 36 37 38 39 40 41 42 43 44 45 46 47 48 49 50 51 52 53\n",
      " 54 55 56 57 58 59 60]\n",
      "# of unique variables:  31\n",
      "educw\n",
      "[ 5  6  7  8  9 10 11 12 13 14 15 16 17]\n",
      "# of unique variables:  13\n",
      "ageh\n",
      "[30 31 32 33 34 35 36 37 38 39 40 41 42 43 44 45 46 47 48 49 50 51 52 53\n",
      " 54 55 56 57 58 59 60]\n",
      "# of unique variables:  31\n",
      "educh\n",
      "[ 3  4  5  6  7  8  9 10 11 12 13 14 15 16 17]\n",
      "# of unique variables:  15\n",
      "educwm\n",
      "[ 0  3  7  9 10 12 14 16 17]\n",
      "# of unique variables:  8\n",
      "educwf\n",
      "[ 0  3  7  9 10 12 14 16 17]\n",
      "# of unique variables:  8\n",
      "unemprate\n",
      "[ 3.   5.   7.5  9.   9.5 11.  14. ]\n",
      "# of unique variables:  7\n",
      "city\n",
      "['no' 'yes']\n",
      "# of unique variables:  2\n"
     ]
    }
   ],
   "source": [
    "# Lets check the number of unique values in each column\n",
    "for col in list(df): # here it works the same as: for col in df.columns.tolist()\n",
    "    print(col)\n",
    "    print(np.sort(df[col].unique()))\n",
    "    print(\"# of unique variables: \", np.count_nonzero(df[col].unique()))"
   ]
  },
  {
   "cell_type": "code",
   "execution_count": 14,
   "metadata": {
    "colab": {
     "base_uri": "https://localhost:8080/"
    },
    "colab_type": "code",
    "id": "rcbN3uotvkBy",
    "outputId": "cd196cbf-9056-404a-ef85-d88a262f087f"
   },
   "outputs": [
    {
     "data": {
      "text/html": [
       "<div>\n",
       "<style scoped>\n",
       "    .dataframe tbody tr th:only-of-type {\n",
       "        vertical-align: middle;\n",
       "    }\n",
       "\n",
       "    .dataframe tbody tr th {\n",
       "        vertical-align: top;\n",
       "    }\n",
       "\n",
       "    .dataframe thead th {\n",
       "        text-align: right;\n",
       "    }\n",
       "</style>\n",
       "<table border=\"1\" class=\"dataframe\">\n",
       "  <thead>\n",
       "    <tr style=\"text-align: right;\">\n",
       "      <th></th>\n",
       "      <th>child6</th>\n",
       "      <th>child618</th>\n",
       "      <th>agew</th>\n",
       "      <th>educw</th>\n",
       "      <th>ageh</th>\n",
       "      <th>educh</th>\n",
       "      <th>educwm</th>\n",
       "      <th>educwf</th>\n",
       "      <th>unemprate</th>\n",
       "    </tr>\n",
       "  </thead>\n",
       "  <tbody>\n",
       "    <tr>\n",
       "      <th>count</th>\n",
       "      <td>753.000000</td>\n",
       "      <td>753.000000</td>\n",
       "      <td>753.000000</td>\n",
       "      <td>753.000000</td>\n",
       "      <td>753.000000</td>\n",
       "      <td>753.000000</td>\n",
       "      <td>753.000000</td>\n",
       "      <td>753.000000</td>\n",
       "      <td>753.000000</td>\n",
       "    </tr>\n",
       "    <tr>\n",
       "      <th>mean</th>\n",
       "      <td>0.237716</td>\n",
       "      <td>1.353254</td>\n",
       "      <td>42.537849</td>\n",
       "      <td>12.286853</td>\n",
       "      <td>45.120850</td>\n",
       "      <td>12.491368</td>\n",
       "      <td>9.250996</td>\n",
       "      <td>8.808765</td>\n",
       "      <td>8.623506</td>\n",
       "    </tr>\n",
       "    <tr>\n",
       "      <th>std</th>\n",
       "      <td>0.523959</td>\n",
       "      <td>1.319874</td>\n",
       "      <td>8.072574</td>\n",
       "      <td>2.280246</td>\n",
       "      <td>8.058793</td>\n",
       "      <td>3.020804</td>\n",
       "      <td>3.367468</td>\n",
       "      <td>3.572290</td>\n",
       "      <td>3.114934</td>\n",
       "    </tr>\n",
       "    <tr>\n",
       "      <th>min</th>\n",
       "      <td>0.000000</td>\n",
       "      <td>0.000000</td>\n",
       "      <td>30.000000</td>\n",
       "      <td>5.000000</td>\n",
       "      <td>30.000000</td>\n",
       "      <td>3.000000</td>\n",
       "      <td>0.000000</td>\n",
       "      <td>0.000000</td>\n",
       "      <td>3.000000</td>\n",
       "    </tr>\n",
       "    <tr>\n",
       "      <th>25%</th>\n",
       "      <td>0.000000</td>\n",
       "      <td>0.000000</td>\n",
       "      <td>36.000000</td>\n",
       "      <td>12.000000</td>\n",
       "      <td>38.000000</td>\n",
       "      <td>11.000000</td>\n",
       "      <td>7.000000</td>\n",
       "      <td>7.000000</td>\n",
       "      <td>7.500000</td>\n",
       "    </tr>\n",
       "    <tr>\n",
       "      <th>50%</th>\n",
       "      <td>0.000000</td>\n",
       "      <td>1.000000</td>\n",
       "      <td>43.000000</td>\n",
       "      <td>12.000000</td>\n",
       "      <td>46.000000</td>\n",
       "      <td>12.000000</td>\n",
       "      <td>10.000000</td>\n",
       "      <td>7.000000</td>\n",
       "      <td>7.500000</td>\n",
       "    </tr>\n",
       "    <tr>\n",
       "      <th>75%</th>\n",
       "      <td>0.000000</td>\n",
       "      <td>2.000000</td>\n",
       "      <td>49.000000</td>\n",
       "      <td>13.000000</td>\n",
       "      <td>52.000000</td>\n",
       "      <td>15.000000</td>\n",
       "      <td>12.000000</td>\n",
       "      <td>12.000000</td>\n",
       "      <td>11.000000</td>\n",
       "    </tr>\n",
       "    <tr>\n",
       "      <th>max</th>\n",
       "      <td>3.000000</td>\n",
       "      <td>8.000000</td>\n",
       "      <td>60.000000</td>\n",
       "      <td>17.000000</td>\n",
       "      <td>60.000000</td>\n",
       "      <td>17.000000</td>\n",
       "      <td>17.000000</td>\n",
       "      <td>17.000000</td>\n",
       "      <td>14.000000</td>\n",
       "    </tr>\n",
       "  </tbody>\n",
       "</table>\n",
       "</div>"
      ],
      "text/plain": [
       "           child6    child618        agew       educw        ageh       educh  \\\n",
       "count  753.000000  753.000000  753.000000  753.000000  753.000000  753.000000   \n",
       "mean     0.237716    1.353254   42.537849   12.286853   45.120850   12.491368   \n",
       "std      0.523959    1.319874    8.072574    2.280246    8.058793    3.020804   \n",
       "min      0.000000    0.000000   30.000000    5.000000   30.000000    3.000000   \n",
       "25%      0.000000    0.000000   36.000000   12.000000   38.000000   11.000000   \n",
       "50%      0.000000    1.000000   43.000000   12.000000   46.000000   12.000000   \n",
       "75%      0.000000    2.000000   49.000000   13.000000   52.000000   15.000000   \n",
       "max      3.000000    8.000000   60.000000   17.000000   60.000000   17.000000   \n",
       "\n",
       "           educwm      educwf   unemprate  \n",
       "count  753.000000  753.000000  753.000000  \n",
       "mean     9.250996    8.808765    8.623506  \n",
       "std      3.367468    3.572290    3.114934  \n",
       "min      0.000000    0.000000    3.000000  \n",
       "25%      7.000000    7.000000    7.500000  \n",
       "50%     10.000000    7.000000    7.500000  \n",
       "75%     12.000000   12.000000   11.000000  \n",
       "max     17.000000   17.000000   14.000000  "
      ]
     },
     "execution_count": 14,
     "metadata": {},
     "output_type": "execute_result"
    }
   ],
   "source": [
    "df.describe() # Common summary statistics of values in each column, except 2 boolean columns (\"work\" and \"city\"), technically object columns"
   ]
  },
  {
   "cell_type": "markdown",
   "metadata": {
    "colab_type": "text",
    "id": "NJp0BI8LwmFM"
   },
   "source": [
    "Some observations:\n",
    "\n",
    "\n",
    "1.   child6 - Most (>75%) wife does not have a child below age6 (child6 = 0)\n",
    "2.   educw  - Most (>75%) of wives has educw >= 12 \n",
    "1.   educh  - Most (>75%) of husbands have educh >= 11. At least half (>=50%)  of husbands have educh >= 12. \n",
    "\n",
    "We see a similar patter in edcuacational attainment for the mother and father of the wives.\n",
    "\n",
    "\n",
    "\n",
    "1.  educw  - Most (>75%) of wives mother has educwm >= 7 \n",
    "1.  educh  - Most (>75%) of wives father has educwf >= 7\n",
    "\n",
    "Also notice that the columns (agew and ageh) have relatively high values and high standard deviation.\n",
    "\n",
    "\n",
    "\n",
    "\n",
    "\n"
   ]
  },
  {
   "cell_type": "code",
   "execution_count": 15,
   "metadata": {
    "colab": {
     "base_uri": "https://localhost:8080/"
    },
    "colab_type": "code",
    "id": "QTU6-Jb_RF9z",
    "outputId": "2d975c54-e397-4d84-e8a7-d6cf0e505e4f"
   },
   "outputs": [
    {
     "data": {
      "text/html": [
       "<div>\n",
       "<style scoped>\n",
       "    .dataframe tbody tr th:only-of-type {\n",
       "        vertical-align: middle;\n",
       "    }\n",
       "\n",
       "    .dataframe tbody tr th {\n",
       "        vertical-align: top;\n",
       "    }\n",
       "\n",
       "    .dataframe thead th {\n",
       "        text-align: right;\n",
       "    }\n",
       "</style>\n",
       "<table border=\"1\" class=\"dataframe\">\n",
       "  <thead>\n",
       "    <tr style=\"text-align: right;\">\n",
       "      <th></th>\n",
       "      <th>work</th>\n",
       "      <th>city</th>\n",
       "    </tr>\n",
       "  </thead>\n",
       "  <tbody>\n",
       "    <tr>\n",
       "      <th>count</th>\n",
       "      <td>753</td>\n",
       "      <td>753</td>\n",
       "    </tr>\n",
       "    <tr>\n",
       "      <th>unique</th>\n",
       "      <td>2</td>\n",
       "      <td>2</td>\n",
       "    </tr>\n",
       "    <tr>\n",
       "      <th>top</th>\n",
       "      <td>no</td>\n",
       "      <td>yes</td>\n",
       "    </tr>\n",
       "    <tr>\n",
       "      <th>freq</th>\n",
       "      <td>428</td>\n",
       "      <td>484</td>\n",
       "    </tr>\n",
       "  </tbody>\n",
       "</table>\n",
       "</div>"
      ],
      "text/plain": [
       "       work city\n",
       "count   753  753\n",
       "unique    2    2\n",
       "top      no  yes\n",
       "freq    428  484"
      ]
     },
     "execution_count": 15,
     "metadata": {},
     "output_type": "execute_result"
    }
   ],
   "source": [
    "# for 2 remaining columns\n",
    "df.describe(include=['object'])"
   ]
  },
  {
   "cell_type": "code",
   "execution_count": 16,
   "metadata": {
    "colab": {
     "base_uri": "https://localhost:8080/"
    },
    "colab_type": "code",
    "id": "9Toh_wGsK5RP",
    "outputId": "f858256e-e834-4dda-cc1c-8f518ce94dc8"
   },
   "outputs": [
    {
     "name": "stdout",
     "output_type": "stream",
     "text": [
      "wives working:  43.16 %\n",
      "wives living in city:  64.28 %\n"
     ]
    }
   ],
   "source": [
    "yes_work = df['work'].value_counts(normalize = True).sort_index()\n",
    "yes_city = df['city'].value_counts(normalize = True).sort_index()\n",
    "\n",
    "print(\"wives working: \", (yes_work[1]*100).round(2), \"%\")\n",
    "print(\"wives living in city: \", (yes_city[1]*100).round(2), \"%\")"
   ]
  },
  {
   "cell_type": "code",
   "execution_count": 17,
   "metadata": {
    "colab": {
     "base_uri": "https://localhost:8080/"
    },
    "colab_type": "code",
    "id": "T9GyO6t1qlQ4",
    "outputId": "96668c53-3a4e-4160-ae42-a5d6ff2aa571"
   },
   "outputs": [
    {
     "data": {
      "text/html": [
       "<div>\n",
       "<style scoped>\n",
       "    .dataframe tbody tr th:only-of-type {\n",
       "        vertical-align: middle;\n",
       "    }\n",
       "\n",
       "    .dataframe tbody tr th {\n",
       "        vertical-align: top;\n",
       "    }\n",
       "\n",
       "    .dataframe thead th {\n",
       "        text-align: right;\n",
       "    }\n",
       "</style>\n",
       "<table border=\"1\" class=\"dataframe\">\n",
       "  <thead>\n",
       "    <tr style=\"text-align: right;\">\n",
       "      <th></th>\n",
       "      <th>work</th>\n",
       "      <th>child6</th>\n",
       "      <th>child618</th>\n",
       "      <th>agew</th>\n",
       "      <th>educw</th>\n",
       "      <th>ageh</th>\n",
       "      <th>educh</th>\n",
       "      <th>educwm</th>\n",
       "      <th>educwf</th>\n",
       "      <th>unemprate</th>\n",
       "      <th>city</th>\n",
       "    </tr>\n",
       "  </thead>\n",
       "  <tbody>\n",
       "  </tbody>\n",
       "</table>\n",
       "</div>"
      ],
      "text/plain": [
       "Empty DataFrame\n",
       "Columns: [work, child6, child618, agew, educw, ageh, educh, educwm, educwf, unemprate, city]\n",
       "Index: []"
      ]
     },
     "execution_count": 17,
     "metadata": {},
     "output_type": "execute_result"
    }
   ],
   "source": [
    "# Checking duplicate Rows and columns\n",
    "df[df.duplicated()]"
   ]
  },
  {
   "cell_type": "markdown",
   "metadata": {
    "colab_type": "text",
    "id": "y6PBMMdq3MJz"
   },
   "source": [
    "Data Cleaning Summary:\n",
    "\n",
    "1.   Missing Values: None\n",
    "2.   Duplicate Values: None\n",
    "1.   Column Types: No change. Note: city, and work should arguably be converted to boolean. I did not because it brought about complications in EDA and visualization later on\n",
    "\n",
    "\n"
   ]
  },
  {
   "cell_type": "markdown",
   "metadata": {
    "colab_type": "text",
    "id": "rKUoIkj8mmz9"
   },
   "source": [
    "### 3.2) Histogram of all variables"
   ]
  },
  {
   "cell_type": "code",
   "execution_count": 18,
   "metadata": {
    "colab": {
     "base_uri": "https://localhost:8080/",
     "height": 248
    },
    "colab_type": "code",
    "id": "ocZp5aQZ5HNB",
    "outputId": "a2df9eb1-986c-4d90-e601-f194c0701dab"
   },
   "outputs": [
    {
     "name": "stdout",
     "output_type": "stream",
     "text": [
      "11\n",
      "work          object\n",
      "child6         int64\n",
      "child618       int64\n",
      "agew           int64\n",
      "educw          int64\n",
      "ageh           int64\n",
      "educh          int64\n",
      "educwm         int64\n",
      "educwf         int64\n",
      "unemprate    float64\n",
      "city          object\n",
      "dtype: object\n"
     ]
    }
   ],
   "source": [
    "print (len(df.columns))\n",
    "print (df.dtypes)"
   ]
  },
  {
   "cell_type": "markdown",
   "metadata": {
    "colab_type": "text",
    "id": "o_eJw-8m5NDq"
   },
   "source": [
    "\n",
    "\n",
    "1. no of columns = 11.\n",
    "2. We have 2 boolean columns at position 0 and -1.\n",
    "3. no of columns to be ploted = (11 total - 2 boolean) 9.\n",
    "4. Let us start the index at 1 (instead of 0) and end at -2.\n",
    "\n",
    "\n"
   ]
  },
  {
   "cell_type": "code",
   "execution_count": 19,
   "metadata": {
    "colab": {
     "base_uri": "https://localhost:8080/",
     "height": 1000
    },
    "colab_type": "code",
    "id": "T9xozoa-ppOK",
    "outputId": "b2b8ff7d-37ca-40f4-af9d-cb67dc329446"
   },
   "outputs": [
    {
     "name": "stderr",
     "output_type": "stream",
     "text": [
      "C:\\Users\\Tashi Nyangmi\\anaconda3\\lib\\site-packages\\seaborn\\distributions.py:2551: FutureWarning: `distplot` is a deprecated function and will be removed in a future version. Please adapt your code to use either `displot` (a figure-level function with similar flexibility) or `histplot` (an axes-level function for histograms).\n",
      "  warnings.warn(msg, FutureWarning)\n",
      "findfont: Font family ['normal'] not found. Falling back to DejaVu Sans.\n"
     ]
    },
    {
     "data": {
      "image/png": "[encoded data removed]",
      "text/plain": [
       "<Figure size 2160x2160 with 9 Axes>"
      ]
     },
     "metadata": {
      "needs_background": "light"
     },
     "output_type": "display_data"
    }
   ],
   "source": [
    "# Set up the matplotlib figure\n",
    "# This portion of the code should be ideally refactored to facilitate reproducability\n",
    "subplot_col = 3 # no of cols\n",
    "subplot_row = 3 # no of rows\n",
    "f, axes = plt.subplots (subplot_row, subplot_col, figsize = (30,30) )\n",
    "sns.despine() #removing the top and left borders of each subplot\n",
    "\n",
    "#Plotting\n",
    "col_no = 1 #starting index at 1 (instead of 0) to avoid the first column (i.e work (boolean))\n",
    "for i in range(subplot_row):\n",
    "  for j in range(subplot_col):\n",
    "    # Note: df.iloc[:,col_no] calls a single column\n",
    "    # Note: data_dict[df.columns[col_no]] first returns the name/label of a column as an argument to data_dict \n",
    "    sns.distplot(df.iloc[:,col_no], ax = axes [i,j],kde = False, axlabel=data_dict[df.columns[col_no]] ) \n",
    "    col_no += 1"
   ]
  },
  {
   "cell_type": "markdown",
   "metadata": {
    "colab_type": "text",
    "id": "xxWd0LhZyVku"
   },
   "source": [
    "Observations: Most of the wives and husbands have 12 years of educational attainment (High School?)\n",
    "Where as for the wives' parents, they have 7.5 years of educational attainment (Middle school?).\n",
    "We learned something about this earlier from the describe() function\n",
    "\n",
    "\n"
   ]
  },
  {
   "cell_type": "markdown",
   "metadata": {
    "colab_type": "text",
    "id": "AtvGCMnO7rRj"
   },
   "source": [
    "Still have to plot 2 histograms for column:work and column:city. These are categorical (more correctly, boolean) variables for the purposes of plotting"
   ]
  },
  {
   "cell_type": "code",
   "execution_count": 20,
   "metadata": {
    "colab": {
     "base_uri": "https://localhost:8080/",
     "height": 406
    },
    "colab_type": "code",
    "id": "MxL2ZgjE78mT",
    "outputId": "50c1d19f-2134-4d4f-89d9-b84edb802a6b"
   },
   "outputs": [
    {
     "name": "stderr",
     "output_type": "stream",
     "text": [
      "C:\\Users\\Tashi Nyangmi\\anaconda3\\lib\\site-packages\\seaborn\\_decorators.py:36: FutureWarning: Pass the following variable as a keyword arg: x. From version 0.12, the only valid positional argument will be `data`, and passing other arguments without an explicit keyword will result in an error or misinterpretation.\n",
      "  warnings.warn(\n",
      "C:\\Users\\Tashi Nyangmi\\anaconda3\\lib\\site-packages\\seaborn\\_decorators.py:36: FutureWarning: Pass the following variable as a keyword arg: x. From version 0.12, the only valid positional argument will be `data`, and passing other arguments without an explicit keyword will result in an error or misinterpretation.\n",
      "  warnings.warn(\n"
     ]
    },
    {
     "data": {
      "text/plain": [
       "<matplotlib.axes._subplots.AxesSubplot at 0x2b36b408e20>"
      ]
     },
     "execution_count": 20,
     "metadata": {},
     "output_type": "execute_result"
    },
    {
     "data": {
      "image/png": "[encoded data removed]",
      "text/plain": [
       "<Figure size 1080x432 with 2 Axes>"
      ]
     },
     "metadata": {
      "needs_background": "light"
     },
     "output_type": "display_data"
    }
   ],
   "source": [
    "# Set up the matplotlib figure\n",
    "subplot_col = 2 # no of cols\n",
    "subplot_row = 1 # no of rows\n",
    "f, axes = plt.subplots (subplot_row, subplot_col, figsize = (15,6))\n",
    "sns.despine() #removing the top and left borders of each subplot\n",
    "\n",
    "# Countplot: A histogram across a categorical variable, instead of quantitative variable.\n",
    "sns.countplot(df[\"work\"], ax = axes[0], saturation = 0.3)\n",
    "sns.countplot(df[\"city\"], ax = axes[1], saturation = 0.3)"
   ]
  },
  {
   "cell_type": "markdown",
   "metadata": {
    "colab_type": "text",
    "id": "AbAODYOQNXka"
   },
   "source": [
    "Let us continue with some more EDA"
   ]
  },
  {
   "cell_type": "markdown",
   "metadata": {
    "colab_type": "text",
    "id": "o-yTd16wD46v"
   },
   "source": [
    "### 3.3) Box plots, Pairplots & Heatmap"
   ]
  },
  {
   "cell_type": "code",
   "execution_count": 21,
   "metadata": {
    "colab": {
     "base_uri": "https://localhost:8080/",
     "height": 200
    },
    "colab_type": "code",
    "id": "mgvKJ5uI_9-R",
    "outputId": "5a7ce9c0-baf6-4004-c607-d62854b9f50b"
   },
   "outputs": [
    {
     "data": {
      "text/html": [
       "<div>\n",
       "<style scoped>\n",
       "    .dataframe tbody tr th:only-of-type {\n",
       "        vertical-align: middle;\n",
       "    }\n",
       "\n",
       "    .dataframe tbody tr th {\n",
       "        vertical-align: top;\n",
       "    }\n",
       "\n",
       "    .dataframe thead th {\n",
       "        text-align: right;\n",
       "    }\n",
       "</style>\n",
       "<table border=\"1\" class=\"dataframe\">\n",
       "  <thead>\n",
       "    <tr style=\"text-align: right;\">\n",
       "      <th></th>\n",
       "      <th>work</th>\n",
       "      <th>child6</th>\n",
       "      <th>child618</th>\n",
       "      <th>agew</th>\n",
       "      <th>educw</th>\n",
       "      <th>ageh</th>\n",
       "      <th>educh</th>\n",
       "      <th>educwm</th>\n",
       "      <th>educwf</th>\n",
       "      <th>unemprate</th>\n",
       "      <th>city</th>\n",
       "    </tr>\n",
       "  </thead>\n",
       "  <tbody>\n",
       "    <tr>\n",
       "      <th>0</th>\n",
       "      <td>no</td>\n",
       "      <td>1</td>\n",
       "      <td>0</td>\n",
       "      <td>32</td>\n",
       "      <td>12</td>\n",
       "      <td>34</td>\n",
       "      <td>12</td>\n",
       "      <td>12</td>\n",
       "      <td>7</td>\n",
       "      <td>5.0</td>\n",
       "      <td>no</td>\n",
       "    </tr>\n",
       "    <tr>\n",
       "      <th>1</th>\n",
       "      <td>no</td>\n",
       "      <td>0</td>\n",
       "      <td>2</td>\n",
       "      <td>30</td>\n",
       "      <td>12</td>\n",
       "      <td>30</td>\n",
       "      <td>9</td>\n",
       "      <td>7</td>\n",
       "      <td>7</td>\n",
       "      <td>11.0</td>\n",
       "      <td>yes</td>\n",
       "    </tr>\n",
       "    <tr>\n",
       "      <th>2</th>\n",
       "      <td>no</td>\n",
       "      <td>1</td>\n",
       "      <td>3</td>\n",
       "      <td>35</td>\n",
       "      <td>12</td>\n",
       "      <td>40</td>\n",
       "      <td>12</td>\n",
       "      <td>12</td>\n",
       "      <td>7</td>\n",
       "      <td>5.0</td>\n",
       "      <td>no</td>\n",
       "    </tr>\n",
       "    <tr>\n",
       "      <th>3</th>\n",
       "      <td>no</td>\n",
       "      <td>0</td>\n",
       "      <td>3</td>\n",
       "      <td>34</td>\n",
       "      <td>12</td>\n",
       "      <td>53</td>\n",
       "      <td>10</td>\n",
       "      <td>7</td>\n",
       "      <td>7</td>\n",
       "      <td>5.0</td>\n",
       "      <td>no</td>\n",
       "    </tr>\n",
       "    <tr>\n",
       "      <th>4</th>\n",
       "      <td>no</td>\n",
       "      <td>1</td>\n",
       "      <td>2</td>\n",
       "      <td>31</td>\n",
       "      <td>14</td>\n",
       "      <td>32</td>\n",
       "      <td>12</td>\n",
       "      <td>12</td>\n",
       "      <td>14</td>\n",
       "      <td>9.5</td>\n",
       "      <td>yes</td>\n",
       "    </tr>\n",
       "  </tbody>\n",
       "</table>\n",
       "</div>"
      ],
      "text/plain": [
       "  work  child6  child618  agew  educw  ageh  educh  educwm  educwf  unemprate  \\\n",
       "0   no       1         0    32     12    34     12      12       7        5.0   \n",
       "1   no       0         2    30     12    30      9       7       7       11.0   \n",
       "2   no       1         3    35     12    40     12      12       7        5.0   \n",
       "3   no       0         3    34     12    53     10       7       7        5.0   \n",
       "4   no       1         2    31     14    32     12      12      14        9.5   \n",
       "\n",
       "  city  \n",
       "0   no  \n",
       "1  yes  \n",
       "2   no  \n",
       "3   no  \n",
       "4  yes  "
      ]
     },
     "execution_count": 21,
     "metadata": {},
     "output_type": "execute_result"
    }
   ],
   "source": [
    "# Create a copy of the Dataframe:df so that we can \"melt\" it for convinence in visualization\n",
    "df_temp = df.copy()\n",
    "df_temp.head()"
   ]
  },
  {
   "cell_type": "code",
   "execution_count": 22,
   "metadata": {
    "colab": {
     "base_uri": "https://localhost:8080/",
     "height": 70
    },
    "colab_type": "code",
    "id": "NI51uKwO1rPV",
    "outputId": "73e6239e-44a9-4f26-965f-e8d89d1cb61d"
   },
   "outputs": [
    {
     "data": {
      "text/plain": [
       "Index(['work', 'child6', 'child618', 'agew', 'educw', 'ageh', 'educh',\n",
       "       'educwm', 'educwf', 'unemprate'],\n",
       "      dtype='object')"
      ]
     },
     "execution_count": 22,
     "metadata": {},
     "output_type": "execute_result"
    }
   ],
   "source": [
    "df_temp.columns[0:-1]"
   ]
  },
  {
   "cell_type": "code",
   "execution_count": 23,
   "metadata": {
    "colab": {},
    "colab_type": "code",
    "id": "ZD31X3z9wdja"
   },
   "outputs": [],
   "source": [
    "# !! do not run multiple times !!\n",
    "\n",
    "# Melting df_temp\n",
    "# copy pasted from output above, find a better way\n",
    "df_temp = pd.melt(df_temp, id_vars=['work'], value_vars=[                                           \n",
    " 'child6',\n",
    " 'child618',\n",
    " 'agew',\n",
    " 'educw',\n",
    " 'ageh',\n",
    " 'educh',\n",
    " 'educwm',\n",
    " 'educwf',\n",
    " 'unemprate',])"
   ]
  },
  {
   "cell_type": "code",
   "execution_count": 24,
   "metadata": {
    "colab": {
     "base_uri": "https://localhost:8080/",
     "height": 687
    },
    "colab_type": "code",
    "id": "4TBYbn2D7JND",
    "outputId": "1b4707cd-51a1-4fd5-feb2-da5f3c81733d"
   },
   "outputs": [
    {
     "data": {
      "text/plain": [
       "(array([0, 1, 2, 3, 4, 5, 6, 7, 8]),\n",
       " <a list of 9 Text major ticklabel objects>)"
      ]
     },
     "execution_count": 24,
     "metadata": {},
     "output_type": "execute_result"
    },
    {
     "data": {
      "image/png": "[encoded data removed]",
      "text/plain": [
       "<Figure size 720x720 with 1 Axes>"
      ]
     },
     "metadata": {
      "needs_background": "light"
     },
     "output_type": "display_data"
    }
   ],
   "source": [
    "# A box plot \n",
    "\n",
    "plt.figure(figsize=(10,10))\n",
    "sns.boxplot(x=\"variable\", y=\"value\", hue = 'work',data=df_temp, palette= {'no':'red', 'yes':'green'})\n",
    "plt.xticks(rotation = 90)"
   ]
  },
  {
   "cell_type": "code",
   "execution_count": 25,
   "metadata": {
    "colab": {},
    "colab_type": "code",
    "id": "A-3wVQywsIFM"
   },
   "outputs": [],
   "source": [
    "# Let us \"zoom in\" on the figure without the age variables\n",
    "df_temp1 = df_temp[(df_temp['variable'] != 'agew') & (df_temp['variable'] != 'ageh')].copy() # a copy of the DataFrame:df_temp w/o the column:agew and column:ageh "
   ]
  },
  {
   "cell_type": "code",
   "execution_count": 26,
   "metadata": {
    "colab": {
     "base_uri": "https://localhost:8080/",
     "height": 669
    },
    "colab_type": "code",
    "id": "CLv6WROh5GMp",
    "outputId": "73f51d33-13b8-4034-cfc8-c9948efa1894"
   },
   "outputs": [
    {
     "data": {
      "text/plain": [
       "(array([0, 1, 2, 3, 4, 5, 6]), <a list of 7 Text major ticklabel objects>)"
      ]
     },
     "execution_count": 26,
     "metadata": {},
     "output_type": "execute_result"
    },
    {
     "data": {
      "image/png": "[encoded data removed]",
      "text/plain": [
       "<Figure size 720x720 with 1 Axes>"
      ]
     },
     "metadata": {
      "needs_background": "light"
     },
     "output_type": "display_data"
    }
   ],
   "source": [
    "plt.figure(figsize=(10,10))\n",
    "sns.boxplot(x=\"variable\", y=\"value\", hue = 'work', data=df_temp1, palette= {'no':'red', 'yes':'green'})\n",
    "plt.xticks(rotation = 90)"
   ]
  },
  {
   "cell_type": "markdown",
   "metadata": {
    "colab_type": "text",
    "id": "yn6UBahPWKwt"
   },
   "source": [
    "Observation: For wifes(observations) with work = yes, the educational attainment seems to be significanlty lower"
   ]
  },
  {
   "cell_type": "markdown",
   "metadata": {
    "colab_type": "text",
    "id": "B9jDDz0WWd4V"
   },
   "source": [
    "Let us explore the relationship between the various variables"
   ]
  },
  {
   "cell_type": "code",
   "execution_count": 27,
   "metadata": {
    "colab": {
     "base_uri": "https://localhost:8080/",
     "height": 1000
    },
    "colab_type": "code",
    "id": "jelhKRcCTGXs",
    "outputId": "7693f64c-2220-491f-826f-5e503cd0a059"
   },
   "outputs": [],
   "source": [
    "#sns.pairplot(df) # !! pairplot() function takes a while to process !!"
   ]
  },
  {
   "cell_type": "markdown",
   "metadata": {
    "colab_type": "text",
    "id": "rTnQ-_lDUk_C"
   },
   "source": [
    "Observations:\n",
    "\n",
    "1.   agew and ageh highly and positively corelated\n",
    "2.   eduw and eduh are also positively corelated but corelation is weak\n",
    "3.   the values for educw is highly concentrated towards the mean, followed closely by educh\n",
    "\n",
    "\n",
    "\n",
    "\n"
   ]
  },
  {
   "cell_type": "code",
   "execution_count": 28,
   "metadata": {
    "colab": {
     "base_uri": "https://localhost:8080/",
     "height": 1000
    },
    "colab_type": "code",
    "id": "M8G3Kg1NTT1C",
    "outputId": "2ebf6f12-36be-4dcd-db93-21c9c77c44f4"
   },
   "outputs": [],
   "source": [
    "# !! pairplot() function takes a while to process !!\n",
    "\n",
    "# let us do the same, but now, distinguish the data based on employment status were employed = green, and unemployed = red\n",
    "# sns.pairplot(data = df, hue = 'work', palette={'yes' : 'green', 'no':'red'}) "
   ]
  },
  {
   "cell_type": "markdown",
   "metadata": {
    "colab_type": "text",
    "id": "LrRRHNajWdkR"
   },
   "source": [
    "Observations:\n",
    "\n",
    "1.   agew and ageh highly and positively corelated; corelation is stronger for wives that have work\n",
    "2.   eduw and eduh are also positively corelated but corelation is weak; corelation is stronger for wives that have work\n",
    "3.   the values for educw is highly concentrated towards the mean, followed closely by educh; concentration is higher for both educw and educh for wives that have work (observed earlier with describe() and individual histograms)\n",
    "\n",
    "\n",
    "\n",
    "\n"
   ]
  },
  {
   "cell_type": "code",
   "execution_count": 29,
   "metadata": {
    "colab": {
     "base_uri": "https://localhost:8080/",
     "height": 139
    },
    "colab_type": "code",
    "id": "8Xnr1xRIXTfG",
    "outputId": "09ad7297-81fa-4ebc-b0f5-4c8fd5225f70"
   },
   "outputs": [
    {
     "data": {
      "text/html": [
       "<div>\n",
       "<style scoped>\n",
       "    .dataframe tbody tr th:only-of-type {\n",
       "        vertical-align: middle;\n",
       "    }\n",
       "\n",
       "    .dataframe tbody tr th {\n",
       "        vertical-align: top;\n",
       "    }\n",
       "\n",
       "    .dataframe thead th {\n",
       "        text-align: right;\n",
       "    }\n",
       "</style>\n",
       "<table border=\"1\" class=\"dataframe\">\n",
       "  <thead>\n",
       "    <tr style=\"text-align: right;\">\n",
       "      <th></th>\n",
       "      <th>child6</th>\n",
       "      <th>child618</th>\n",
       "      <th>agew</th>\n",
       "      <th>educw</th>\n",
       "      <th>ageh</th>\n",
       "      <th>educh</th>\n",
       "      <th>educwm</th>\n",
       "      <th>educwf</th>\n",
       "      <th>unemprate</th>\n",
       "    </tr>\n",
       "    <tr>\n",
       "      <th>work</th>\n",
       "      <th></th>\n",
       "      <th></th>\n",
       "      <th></th>\n",
       "      <th></th>\n",
       "      <th></th>\n",
       "      <th></th>\n",
       "      <th></th>\n",
       "      <th></th>\n",
       "      <th></th>\n",
       "    </tr>\n",
       "  </thead>\n",
       "  <tbody>\n",
       "    <tr>\n",
       "      <th>no</th>\n",
       "      <td>0.140187</td>\n",
       "      <td>1.350467</td>\n",
       "      <td>41.971963</td>\n",
       "      <td>12.658879</td>\n",
       "      <td>44.609813</td>\n",
       "      <td>12.612150</td>\n",
       "      <td>9.516355</td>\n",
       "      <td>8.988318</td>\n",
       "      <td>8.545561</td>\n",
       "    </tr>\n",
       "    <tr>\n",
       "      <th>yes</th>\n",
       "      <td>0.366154</td>\n",
       "      <td>1.356923</td>\n",
       "      <td>43.283077</td>\n",
       "      <td>11.796923</td>\n",
       "      <td>45.793846</td>\n",
       "      <td>12.332308</td>\n",
       "      <td>8.901538</td>\n",
       "      <td>8.572308</td>\n",
       "      <td>8.726154</td>\n",
       "    </tr>\n",
       "  </tbody>\n",
       "</table>\n",
       "</div>"
      ],
      "text/plain": [
       "        child6  child618       agew      educw       ageh      educh  \\\n",
       "work                                                                   \n",
       "no    0.140187  1.350467  41.971963  12.658879  44.609813  12.612150   \n",
       "yes   0.366154  1.356923  43.283077  11.796923  45.793846  12.332308   \n",
       "\n",
       "        educwm    educwf  unemprate  \n",
       "work                                 \n",
       "no    9.516355  8.988318   8.545561  \n",
       "yes   8.901538  8.572308   8.726154  "
      ]
     },
     "execution_count": 29,
     "metadata": {},
     "output_type": "execute_result"
    }
   ],
   "source": [
    "df.groupby(['work']).agg(np.mean)"
   ]
  },
  {
   "cell_type": "markdown",
   "metadata": {
    "colab_type": "text",
    "id": "N5HJctLbW0s3"
   },
   "source": [
    "Observation: The subgroup with work = yes, have (on average) more children under the age of 6"
   ]
  },
  {
   "cell_type": "markdown",
   "metadata": {
    "colab_type": "text",
    "id": "00Ej3TE0mZbQ"
   },
   "source": [
    "### 3.4) Heat Map"
   ]
  },
  {
   "cell_type": "code",
   "execution_count": 30,
   "metadata": {
    "colab": {
     "base_uri": "https://localhost:8080/"
    },
    "colab_type": "code",
    "id": "uVnHDTHydBKJ",
    "outputId": "04be6311-ba9f-4a21-d6d5-5a0f3352b4af"
   },
   "outputs": [
    {
     "data": {
      "text/plain": [
       "<matplotlib.axes._subplots.AxesSubplot at 0x2b36bf89fd0>"
      ]
     },
     "execution_count": 30,
     "metadata": {},
     "output_type": "execute_result"
    },
    {
     "data": {
      "image/png": "[encoded data removed]",
      "text/plain": [
       "<Figure size 1440x720 with 2 Axes>"
      ]
     },
     "metadata": {
      "needs_background": "light"
     },
     "output_type": "display_data"
    }
   ],
   "source": [
    "# Finding the relations between the variables\n",
    "\n",
    "# Creating a copy of the dataframe:df so that we can replace the yes/no with 1/0\n",
    "df_hm = df.copy()\n",
    "to_binary(df_hm, 'work', 'yes', 'no') # user-defined function to replace string boolean columns with 1/0\n",
    "to_binary(df_hm, 'city', 'yes', 'no') # user-defined function to replace string boolean columns with 1/0\n",
    "\n",
    "# Plotting\n",
    "plt.figure(figsize = (20,10))\n",
    "c = df_hm.corr()\n",
    "sns.heatmap(c, cmap = \"BrBG\", annot = True)"
   ]
  },
  {
   "cell_type": "markdown",
   "metadata": {
    "colab_type": "text",
    "id": "nN0EKvgQdVfv"
   },
   "source": [
    "Observation: The heatmap quantifies one aspect of the pair plot (correlation)"
   ]
  },
  {
   "cell_type": "markdown",
   "metadata": {
    "colab_type": "text",
    "id": "QN7bbh-dP9YN"
   },
   "source": [
    "Let us split the dataframe according to work and look at the correlation matrix"
   ]
  },
  {
   "cell_type": "code",
   "execution_count": 31,
   "metadata": {
    "colab": {},
    "colab_type": "code",
    "id": "skKR8XxwTDf0"
   },
   "outputs": [],
   "source": [
    "work_no, work_yes = col_split_bool(df_hm, \"work\", 0, 1) # User defined function that takes 1 dataframe and returns two dataframes split based on a boolean column"
   ]
  },
  {
   "cell_type": "code",
   "execution_count": 32,
   "metadata": {
    "colab": {
     "base_uri": "https://localhost:8080/"
    },
    "colab_type": "code",
    "id": "EgpGWOWzUHG1",
    "outputId": "a4681c9c-3021-48ba-fc3a-29233e02d770"
   },
   "outputs": [
    {
     "data": {
      "text/plain": [
       "<matplotlib.axes._subplots.AxesSubplot at 0x2b3638a26d0>"
      ]
     },
     "execution_count": 32,
     "metadata": {},
     "output_type": "execute_result"
    },
    {
     "data": {
      "image/png": "[encoded data removed]",
      "text/plain": [
       "<Figure size 1440x720 with 2 Axes>"
      ]
     },
     "metadata": {
      "needs_background": "light"
     },
     "output_type": "display_data"
    }
   ],
   "source": [
    "# Plotting\n",
    "plt.figure(figsize = (20,10))\n",
    "c = work_no.corr()\n",
    "sns.heatmap(c, cmap = \"BrBG\", annot = True)"
   ]
  },
  {
   "cell_type": "code",
   "execution_count": 33,
   "metadata": {
    "colab": {
     "base_uri": "https://localhost:8080/"
    },
    "colab_type": "code",
    "id": "fuEkmv-wUZuG",
    "outputId": "0efd421e-21f7-450c-8f78-c3999c107346"
   },
   "outputs": [
    {
     "data": {
      "text/plain": [
       "<matplotlib.axes._subplots.AxesSubplot at 0x2b36c2de8e0>"
      ]
     },
     "execution_count": 33,
     "metadata": {},
     "output_type": "execute_result"
    },
    {
     "data": {
      "image/png": "[encoded data removed]",
      "text/plain": [
       "<Figure size 1440x720 with 2 Axes>"
      ]
     },
     "metadata": {
      "needs_background": "light"
     },
     "output_type": "display_data"
    }
   ],
   "source": [
    "# Plotting\n",
    "plt.figure(figsize = (20,10))\n",
    "c = work_yes.corr()\n",
    "sns.heatmap(c, cmap = \"BrBG\", annot = True)"
   ]
  },
  {
   "cell_type": "markdown",
   "metadata": {
    "colab_type": "text",
    "id": "fVOFSzbdTry1"
   },
   "source": [
    "### 3.5) High school education vs work status"
   ]
  },
  {
   "cell_type": "markdown",
   "metadata": {
    "colab_type": "text",
    "id": "BOT4YP1lT3dw"
   },
   "source": [
    "Women's education attainment: Atleast High School degree vs not ***(Assumption: 12 years of educational attainment means HS degree***)"
   ]
  },
  {
   "cell_type": "markdown",
   "metadata": {
    "colab_type": "text",
    "id": "TGs6PJqJ7Gcy"
   },
   "source": [
    "Let us split the dataframe df, into two parts based on whether the wife has atleast a High School degree or not"
   ]
  },
  {
   "cell_type": "code",
   "execution_count": null,
   "metadata": {
    "colab": {},
    "colab_type": "code",
    "id": "jP5v8tDEWIBs"
   },
   "outputs": [],
   "source": [
    "# split df into two\n",
    "HS_yes_w, HS_no_w = col_split_cutoff(df,\"educw\", 12) # call the user defined function to split the data set (cutoff point = 12, and column = educw)"
   ]
  },
  {
   "cell_type": "code",
   "execution_count": null,
   "metadata": {
    "colab": {
     "base_uri": "https://localhost:8080/"
    },
    "colab_type": "code",
    "id": "QkM-s-dgVZqZ",
    "outputId": "4daf176b-3685-447f-f80c-1b22ad67d364"
   },
   "outputs": [
    {
     "name": "stdout",
     "output_type": "stream",
     "text": [
      "wives with HS degree working:  39.97 %\n",
      "wives without HS degree working:  55.0 %\n"
     ]
    }
   ],
   "source": [
    "yes_HS = HS_yes_w[\"work\"].value_counts(normalize = True).sort_index() # with HS degree and more\n",
    "no_HS = HS_no_w[\"work\"].value_counts(normalize = True).sort_index() # without HS degree\n",
    "\n",
    "print(\"wives with HS degree working: \", (yes_HS[1]*100).round(2), \"%\")\n",
    "print(\"wives without HS degree working: \", (no_HS[1]*100).round(2), \"%\")"
   ]
  },
  {
   "cell_type": "markdown",
   "metadata": {
    "colab_type": "text",
    "id": "vHT16sv7ZVKv"
   },
   "source": [
    "Observation: Suprisingly, an individual is more likely to be working if the wife does not have a Highschool degree (work: 39.97%% for HS+ vs 55% for no HS)"
   ]
  },
  {
   "cell_type": "markdown",
   "metadata": {
    "colab_type": "text",
    "id": "UIQiIVj4aAdP"
   },
   "source": [
    "Repeat the same for column:educh"
   ]
  },
  {
   "cell_type": "code",
   "execution_count": null,
   "metadata": {
    "colab": {},
    "colab_type": "code",
    "id": "Lvtu2FwQZUX_"
   },
   "outputs": [],
   "source": [
    "HS_yes_h, HS_no_h = col_split_cutoff(df,\"educh\", 12) # call the function to split the data set with 12 as the cutoff point & educw as the column"
   ]
  },
  {
   "cell_type": "code",
   "execution_count": null,
   "metadata": {
    "colab": {
     "base_uri": "https://localhost:8080/"
    },
    "colab_type": "code",
    "id": "CJFtrefG8v4l",
    "outputId": "c9b2f191-244b-46ad-f5e1-c0d984c44f22"
   },
   "outputs": [
    {
     "name": "stdout",
     "output_type": "stream",
     "text": [
      "wives of husbands with HS degree working:  42.94 %\n",
      "wives of husbands without HS degree working:  43.75 %\n"
     ]
    }
   ],
   "source": [
    "yes_HS_h = HS_yes_h[\"work\"].value_counts(normalize = True).sort_index() # with HS degree and more\n",
    "no_HS_h = HS_no_h[\"work\"].value_counts(normalize = True).sort_index() # without HS degree\n",
    "\n",
    "print(\"wives of husbands with HS degree working: \", (yes_HS_h[1]*100).round(2), \"%\")\n",
    "print(\"wives of husbands without HS degree working: \", (no_HS_h[1]*100).round(2), \"%\")"
   ]
  },
  {
   "cell_type": "markdown",
   "metadata": {
    "colab_type": "text",
    "id": "pXIM4sszaWRn"
   },
   "source": [
    "Observation: The education of husband has a relatively small difference between the two subgroups in terms of work/employment status when compared to the difference seen in the case of education of wife\n",
    "\n",
    "\n"
   ]
  },
  {
   "cell_type": "markdown",
   "metadata": {
    "colab_type": "text",
    "id": "qeecKM8a9Hw6"
   },
   "source": [
    "Now, let us conduct test for both of these results"
   ]
  },
  {
   "cell_type": "markdown",
   "metadata": {
    "colab_type": "text",
    "id": "yQq_PBWZbW_v"
   },
   "source": [
    "# 4) Hypothesis"
   ]
  },
  {
   "cell_type": "markdown",
   "metadata": {
    "colab_type": "text",
    "id": "Tzdy7CA3_L34"
   },
   "source": [
    "## 4.1) Hypothesis #1"
   ]
  },
  {
   "cell_type": "markdown",
   "metadata": {
    "colab_type": "text",
    "id": "TOHGe8BSBKlb"
   },
   "source": [
    "###  4.1.1)Test"
   ]
  },
  {
   "cell_type": "markdown",
   "metadata": {
    "colab_type": "text",
    "id": "nsD6XzyDIp5V"
   },
   "source": [
    "**ASSUMPTION** : 12 years of educational attainment signifies HS degree"
   ]
  },
  {
   "cell_type": "markdown",
   "metadata": {
    "colab_type": "text",
    "id": "3XlWMXJlBR31"
   },
   "source": [
    "The two populations refer to the sub-group with and without a High School degree (at least).\n",
    "\n",
    "1.   Null hypothesis: The proportions of wives working for the two populations are equal.\n",
    "\n",
    "2.   Alternative hypothesis: The proportions of wives working for the two populations are different. (More specifically, the proportions of wives working is greater for those without HS degree)\n",
    "\n"
   ]
  },
  {
   "cell_type": "markdown",
   "metadata": {
    "colab_type": "text",
    "id": "C7z1FtVKCx50"
   },
   "source": [
    "Notations\n",
    "\n",
    "1.  HS_yes_w = with High school degree, and \n",
    "2.   HS_no_w = without High school degree\n",
    "\n"
   ]
  },
  {
   "cell_type": "markdown",
   "metadata": {
    "colab_type": "text",
    "id": "tLUU4T_5DKvJ"
   },
   "source": [
    "HYPOTHESIS Pre-determined alpha = 0.05\n",
    "\n",
    "1.   Null         :  HS_yes_w = HS_no_w \n",
    "2.   Alternative  :  HS_no_w - HS_yes_w >0"
   ]
  },
  {
   "cell_type": "code",
   "execution_count": null,
   "metadata": {
    "colab": {
     "base_uri": "https://localhost:8080/",
     "height": 475
    },
    "colab_type": "code",
    "id": "2IcBVgc_EvIx",
    "outputId": "4693af3e-0300-4956-f5f5-b1fa09fbe83a"
   },
   "outputs": [
    {
     "data": {
      "text/plain": [
       "Text(0.5, 1.0, 'Educational Attainment higher among unemployed women')"
      ]
     },
     "execution_count": 42,
     "metadata": {
      "tags": []
     },
     "output_type": "execute_result"
    },
    {
     "name": "stderr",
     "output_type": "stream",
     "text": [
      "findfont: Font family ['normal'] not found. Falling back to DejaVu Sans.\n"
     ]
    },
    {
     "data": {
      "image/png": "[encoded data removed]",
      "text/plain": [
       "<Figure size 504x504 with 1 Axes>"
      ]
     },
     "metadata": {
      "needs_background": "light",
      "tags": []
     },
     "output_type": "display_data"
    }
   ],
   "source": [
    "plt.figure(figsize=(7,7))\n",
    "g = sns.boxplot(x=\"variable\", y=\"value\", hue = 'work', data=df_temp1[df_temp1[\"variable\"] == \"educw\"], palette= {'no':'red', 'yes':'green'}, width = 0.15)\n",
    "g.set(xlabel = '\"education attaintment of wife\"', ylabel= \"years\")\n",
    "g.set_title (\"Educational Attainment higher among unemployed women\")"
   ]
  },
  {
   "cell_type": "code",
   "execution_count": null,
   "metadata": {
    "colab": {},
    "colab_type": "code",
    "id": "E1gSaiznAZgI"
   },
   "outputs": [],
   "source": [
    "# User defined function to split df into two\n",
    "HS_yes_w, HS_no_w = col_split_cutoff(df,\"educw\", 12) # call the user defined function to split the data set (cutoff point = 12, and column = educw)"
   ]
  },
  {
   "cell_type": "code",
   "execution_count": null,
   "metadata": {
    "colab": {},
    "colab_type": "code",
    "id": "q9WtEUyd9qlR"
   },
   "outputs": [],
   "source": [
    "# User defined function to convert \"yes\" to 1 and \"no\" to 0\n",
    "to_binary(HS_yes_w, \"work\",\"yes\", \"no\")\n",
    "to_binary(HS_no_w, \"work\",\"yes\", \"no\")"
   ]
  },
  {
   "cell_type": "code",
   "execution_count": null,
   "metadata": {
    "colab": {
     "base_uri": "https://localhost:8080/",
     "height": 70
    },
    "colab_type": "code",
    "id": "timRl3QeHhuy",
    "outputId": "bf29fa15-431e-420e-b3a8-ff5a3d96bb73"
   },
   "outputs": [
    {
     "name": "stdout",
     "output_type": "stream",
     "text": [
      "Variance\n",
      "with HS    : 0.2399\n",
      "without HS : 0.2475\n"
     ]
    }
   ],
   "source": [
    "# Variance for both group\n",
    "print(\"Variance\")\n",
    "print(\"with HS    :\", round(np.var(HS_yes_w[\"work\"]),4))\n",
    "print(\"without HS :\",round(np.var(HS_no_w[\"work\"]),4))\n",
    "# variance is almost equal"
   ]
  },
  {
   "cell_type": "code",
   "execution_count": null,
   "metadata": {
    "colab": {
     "base_uri": "https://localhost:8080/",
     "height": 35
    },
    "colab_type": "code",
    "id": "wgnAVRv6ACtv",
    "outputId": "a2400519-0ef2-4ae4-e5b4-7b3cec168a13"
   },
   "outputs": [
    {
     "data": {
      "text/plain": [
       "Ttest_indResult(statistic=3.4291310310557153, pvalue=0.0006385577136062028)"
      ]
     },
     "execution_count": 46,
     "metadata": {
      "tags": []
     },
     "output_type": "execute_result"
    }
   ],
   "source": [
    "# Using ttest_ind() from scipy.stats\n",
    "stats.ttest_ind(HS_no_w[\"work\"],HS_yes_w[\"work\"]) # ttest_ind(a,b) | mean(a) - mean(b)"
   ]
  },
  {
   "cell_type": "markdown",
   "metadata": {
    "colab_type": "text",
    "id": "yXqa__i8R11I"
   },
   "source": [
    "RESULTS\n",
    "\n",
    "1.   t-statistic is positive\n",
    "2.   p-value = 0.0006 (i.e. p-value < 0.05).\n",
    "\n",
    "Hence, we are able to successfully reject the null \n",
    "hypothesis "
   ]
  },
  {
   "cell_type": "markdown",
   "metadata": {
    "colab_type": "text",
    "id": "lG_pmogR-QBR"
   },
   "source": [
    "**Let us conduct the same test for the educational attainment of Husband**"
   ]
  },
  {
   "cell_type": "markdown",
   "metadata": {
    "colab_type": "text",
    "id": "6T_KwoOL-ZSB"
   },
   "source": [
    "Some Notations\n",
    "\n",
    "1.  HS_yes_h = with High school degree, and \n",
    "2.   HS_no_h = without High school degree"
   ]
  },
  {
   "cell_type": "markdown",
   "metadata": {
    "colab_type": "text",
    "id": "NLf1dTSN-bkw"
   },
   "source": [
    "HYPOTHESES\n",
    "Pre-determined alpha = 0.05\n",
    "\n",
    "1.   Null         :  HS_yes_h = HS_no_h \n",
    "2.   Alternative  :  HS_no_h - HS_yes_h >0"
   ]
  },
  {
   "cell_type": "code",
   "execution_count": null,
   "metadata": {
    "colab": {
     "base_uri": "https://localhost:8080/",
     "height": 475
    },
    "colab_type": "code",
    "id": "u9ZhrRt2LTNI",
    "outputId": "61950240-057e-4dda-fc33-5c47acbd9cec"
   },
   "outputs": [
    {
     "data": {
      "text/plain": [
       "Text(0.5, 1.0, 'Educational Attainment seem a bit higher among unemployed men')"
      ]
     },
     "execution_count": 47,
     "metadata": {
      "tags": []
     },
     "output_type": "execute_result"
    },
    {
     "data": {
      "image/png": "[encoded data removed]",
      "text/plain": [
       "<Figure size 504x504 with 1 Axes>"
      ]
     },
     "metadata": {
      "needs_background": "light",
      "tags": []
     },
     "output_type": "display_data"
    }
   ],
   "source": [
    "plt.figure(figsize=(7,7))\n",
    "g = sns.boxplot(x=\"variable\", y=\"value\", hue = 'work', data=df_temp1[df_temp1[\"variable\"] == \"educh\"], palette= {'no':'red', 'yes':'green'}, width = 0.15)\n",
    "g.set(xlabel = '\"education attaintment of wife\"', ylabel= \"years\")\n",
    "g.set_title (\"Educational Attainment seem a bit higher among unemployed men\")"
   ]
  },
  {
   "cell_type": "code",
   "execution_count": null,
   "metadata": {
    "colab": {},
    "colab_type": "code",
    "id": "7D31mXh2-WkA"
   },
   "outputs": [],
   "source": [
    "# User defined function to convert \"yes\" to 1 and \"no\" to 0\n",
    "to_binary(HS_yes_h, \"work\",\"yes\", \"no\")\n",
    "to_binary(HS_no_h, \"work\",\"yes\", \"no\")"
   ]
  },
  {
   "cell_type": "code",
   "execution_count": null,
   "metadata": {
    "colab": {
     "base_uri": "https://localhost:8080/",
     "height": 35
    },
    "colab_type": "code",
    "id": "HM5dsq2k-oF4",
    "outputId": "4a58b3af-572e-4ea6-d456-bbc3514e520d"
   },
   "outputs": [
    {
     "data": {
      "text/plain": [
       "Ttest_indResult(statistic=0.201437312306735, pvalue=0.8404111888157628)"
      ]
     },
     "execution_count": 49,
     "metadata": {
      "tags": []
     },
     "output_type": "execute_result"
    }
   ],
   "source": [
    "# Using ttest_ind() from scipy.stats\n",
    "stats.ttest_ind(HS_no_h[\"work\"],HS_yes_h[\"work\"]) # ttest_ind(a,b) | mean(a) - mean(b)"
   ]
  },
  {
   "cell_type": "markdown",
   "metadata": {
    "colab_type": "text",
    "id": "jdihSDnD-xIA"
   },
   "source": [
    "RESULTS\n",
    "\n",
    "1.   t-statistic is positive\n",
    "2.   p-value = 0.84 (i.e p-value > 0.05)\n",
    "\n",
    "Hence, we fail to reject the null \n",
    "hypothesis "
   ]
  },
  {
   "cell_type": "markdown",
   "metadata": {
    "colab_type": "text",
    "id": "KNxm21f4_W0Y"
   },
   "source": [
    "### 4.1.2) Visualization"
   ]
  },
  {
   "cell_type": "code",
   "execution_count": null,
   "metadata": {
    "colab": {},
    "colab_type": "code",
    "id": "fPSld5paAV0Z"
   },
   "outputs": [],
   "source": [
    "# a new dataframe with a new column hschoolw\n",
    "# hschoolw = \"yes\" if a particular woman (observation) has atleast HS degree (12 years of educational attainment), and  hschool = \"no\" otherwise\n",
    "df_hp1 = df.copy()\n",
    "df_hp1[\"hschoolw\"] = np.where(df_hp1[\"educw\"]>= 12, \"yes\", \"no\")"
   ]
  },
  {
   "cell_type": "code",
   "execution_count": null,
   "metadata": {
    "colab": {
     "base_uri": "https://localhost:8080/",
     "height": 200
    },
    "colab_type": "code",
    "id": "iqvl-oS8ygSr",
    "outputId": "dd4c988b-9957-4996-99cf-2a469e9961cd"
   },
   "outputs": [
    {
     "data": {
      "text/html": [
       "<div>\n",
       "<style scoped>\n",
       "    .dataframe tbody tr th:only-of-type {\n",
       "        vertical-align: middle;\n",
       "    }\n",
       "\n",
       "    .dataframe tbody tr th {\n",
       "        vertical-align: top;\n",
       "    }\n",
       "\n",
       "    .dataframe thead th {\n",
       "        text-align: right;\n",
       "    }\n",
       "</style>\n",
       "<table border=\"1\" class=\"dataframe\">\n",
       "  <thead>\n",
       "    <tr style=\"text-align: right;\">\n",
       "      <th></th>\n",
       "      <th>work</th>\n",
       "      <th>child6</th>\n",
       "      <th>child618</th>\n",
       "      <th>agew</th>\n",
       "      <th>educw</th>\n",
       "      <th>ageh</th>\n",
       "      <th>educh</th>\n",
       "      <th>educwm</th>\n",
       "      <th>educwf</th>\n",
       "      <th>unemprate</th>\n",
       "      <th>city</th>\n",
       "      <th>hschoolw</th>\n",
       "    </tr>\n",
       "  </thead>\n",
       "  <tbody>\n",
       "    <tr>\n",
       "      <th>0</th>\n",
       "      <td>no</td>\n",
       "      <td>1</td>\n",
       "      <td>0</td>\n",
       "      <td>32</td>\n",
       "      <td>12</td>\n",
       "      <td>34</td>\n",
       "      <td>12</td>\n",
       "      <td>12</td>\n",
       "      <td>7</td>\n",
       "      <td>5.0</td>\n",
       "      <td>no</td>\n",
       "      <td>yes</td>\n",
       "    </tr>\n",
       "    <tr>\n",
       "      <th>1</th>\n",
       "      <td>no</td>\n",
       "      <td>0</td>\n",
       "      <td>2</td>\n",
       "      <td>30</td>\n",
       "      <td>12</td>\n",
       "      <td>30</td>\n",
       "      <td>9</td>\n",
       "      <td>7</td>\n",
       "      <td>7</td>\n",
       "      <td>11.0</td>\n",
       "      <td>yes</td>\n",
       "      <td>yes</td>\n",
       "    </tr>\n",
       "    <tr>\n",
       "      <th>2</th>\n",
       "      <td>no</td>\n",
       "      <td>1</td>\n",
       "      <td>3</td>\n",
       "      <td>35</td>\n",
       "      <td>12</td>\n",
       "      <td>40</td>\n",
       "      <td>12</td>\n",
       "      <td>12</td>\n",
       "      <td>7</td>\n",
       "      <td>5.0</td>\n",
       "      <td>no</td>\n",
       "      <td>yes</td>\n",
       "    </tr>\n",
       "    <tr>\n",
       "      <th>3</th>\n",
       "      <td>no</td>\n",
       "      <td>0</td>\n",
       "      <td>3</td>\n",
       "      <td>34</td>\n",
       "      <td>12</td>\n",
       "      <td>53</td>\n",
       "      <td>10</td>\n",
       "      <td>7</td>\n",
       "      <td>7</td>\n",
       "      <td>5.0</td>\n",
       "      <td>no</td>\n",
       "      <td>yes</td>\n",
       "    </tr>\n",
       "    <tr>\n",
       "      <th>4</th>\n",
       "      <td>no</td>\n",
       "      <td>1</td>\n",
       "      <td>2</td>\n",
       "      <td>31</td>\n",
       "      <td>14</td>\n",
       "      <td>32</td>\n",
       "      <td>12</td>\n",
       "      <td>12</td>\n",
       "      <td>14</td>\n",
       "      <td>9.5</td>\n",
       "      <td>yes</td>\n",
       "      <td>yes</td>\n",
       "    </tr>\n",
       "  </tbody>\n",
       "</table>\n",
       "</div>"
      ],
      "text/plain": [
       "  work  child6  child618  agew  educw  ...  educwm  educwf  unemprate  city  hschoolw\n",
       "0   no       1         0    32     12  ...      12       7        5.0    no       yes\n",
       "1   no       0         2    30     12  ...       7       7       11.0   yes       yes\n",
       "2   no       1         3    35     12  ...      12       7        5.0    no       yes\n",
       "3   no       0         3    34     12  ...       7       7        5.0    no       yes\n",
       "4   no       1         2    31     14  ...      12      14        9.5   yes       yes\n",
       "\n",
       "[5 rows x 12 columns]"
      ]
     },
     "execution_count": 257,
     "metadata": {
      "tags": []
     },
     "output_type": "execute_result"
    }
   ],
   "source": [
    "df_hp1.head()"
   ]
  },
  {
   "cell_type": "code",
   "execution_count": null,
   "metadata": {
    "colab": {
     "base_uri": "https://localhost:8080/",
     "height": 650
    },
    "colab_type": "code",
    "id": "fMesYl8SAKyo",
    "outputId": "407bfc11-67fa-4529-f51e-894ee1cda0ea"
   },
   "outputs": [
    {
     "data": {
      "text/plain": [
       "<matplotlib.axes._subplots.AxesSubplot at 0x7fca0f0d2ac8>"
      ]
     },
     "execution_count": 258,
     "metadata": {
      "tags": []
     },
     "output_type": "execute_result"
    },
    {
     "data": {
      "image/png": "[encoded data removed]",
      "text/plain": [
       "<Figure size 720x720 with 1 Axes>"
      ]
     },
     "metadata": {
      "tags": []
     },
     "output_type": "display_data"
    }
   ],
   "source": [
    "# Utilize this new column to create this countplot\n",
    "plt.figure(figsize=(10,10))\n",
    "sns.countplot(df_hp1[\"hschoolw\"], data = df_hp1, hue = \"work\", palette={\"yes\": \"green\", \"no\": \"red\"}, saturation=0.3 )"
   ]
  },
  {
   "cell_type": "markdown",
   "metadata": {
    "colab_type": "text",
    "id": "BZdtvREnCvFY"
   },
   "source": [
    "**Means of two subgroups with standard error**\n"
   ]
  },
  {
   "cell_type": "markdown",
   "metadata": {
    "colab_type": "text",
    "id": "RJdlj-spC-5g"
   },
   "source": [
    "First subgroup is for wives without HS degree HS_no_w"
   ]
  },
  {
   "cell_type": "code",
   "execution_count": null,
   "metadata": {
    "colab": {},
    "colab_type": "code",
    "id": "t7Zv5MgPEgkW"
   },
   "outputs": [],
   "source": [
    "to_binary(df_hp1, \"work\", \"yes\", \"no\")  # replace yes/no with 1/0 in column:work\n",
    "df_hp1[\"work\"] = df_hp1[\"work\"].astype(int) # convert the datatype of column:work to int"
   ]
  },
  {
   "cell_type": "code",
   "execution_count": null,
   "metadata": {
    "colab": {
     "base_uri": "https://localhost:8080/",
     "height": 656
    },
    "colab_type": "code",
    "id": "lXEyDmYmDDVw",
    "outputId": "eaae409f-8440-41bb-8039-3a3c22d3c943"
   },
   "outputs": [
    {
     "data": {
      "text/plain": [
       "[Text(0, 0.5, 'proportion of wife working'),\n",
       " Text(0.5, 0, 'Wife with High School degree?')]"
      ]
     },
     "execution_count": 54,
     "metadata": {
      "tags": []
     },
     "output_type": "execute_result"
    },
    {
     "data": {
      "image/png": "[encoded data removed]",
      "text/plain": [
       "<Figure size 720x720 with 1 Axes>"
      ]
     },
     "metadata": {
      "needs_background": "light",
      "tags": []
     },
     "output_type": "display_data"
    }
   ],
   "source": [
    "plt.figure(figsize=(10,10))\n",
    "g = sns.barplot(x = \"hschoolw\", y = \"work\",data = df_hp1, errwidth=5, capsize=0.05, ci = 95) # with 95% confidence interval\n",
    "g.set_title(\"High school degree and employment status\")\n",
    "g.set(xlabel = \"Wife with High School degree?\",\n",
    "      ylabel = \"proportion of wife working\")\n"
   ]
  },
  {
   "cell_type": "markdown",
   "metadata": {
    "colab_type": "text",
    "id": "pPn-ogHbEDTv"
   },
   "source": [
    "## 4.2) Hypothesis #2"
   ]
  },
  {
   "cell_type": "markdown",
   "metadata": {
    "colab_type": "text",
    "id": "TlUY9jATjXI8"
   },
   "source": [
    "### 4.2.1) Test"
   ]
  },
  {
   "cell_type": "markdown",
   "metadata": {
    "colab_type": "text",
    "id": "bEHE6pEkIQ9o"
   },
   "source": [
    "The two populations refer to the sub-group with and without work.\n",
    "\n",
    "1.   Null hypothesis: The mean of the number of children under age 6 for the two populations are equal\n",
    "\n",
    "2.   Alternative hypothesis: The mean of the number of children under age 6 for the sub population with work is greater than that of without work.\n"
   ]
  },
  {
   "cell_type": "markdown",
   "metadata": {
    "colab_type": "text",
    "id": "mjWs972dJF-C"
   },
   "source": [
    "Notations:\n",
    "1.   yes_work = number of children under age 6 belonging to employed women\n",
    "2.   no_work = number of children under age 6 belonging to unemployed women\n",
    "\n",
    "\n",
    "\n",
    "\n",
    "\n"
   ]
  },
  {
   "cell_type": "markdown",
   "metadata": {
    "colab_type": "text",
    "id": "w4fTZF3yYxbL"
   },
   "source": [
    "HYPOTHESIS Pre-determined alpha = 0.05\n",
    "\n",
    "1.   Null         :  mean(yes_work) = mean(no_work)\n",
    "2.   Alternative  :   mean(yes_work) > mean(no_work)"
   ]
  },
  {
   "cell_type": "code",
   "execution_count": null,
   "metadata": {
    "colab": {},
    "colab_type": "code",
    "id": "qwz9e5g2_7RT"
   },
   "outputs": [],
   "source": [
    "# Separating DataFrame:df  based on column:work\n",
    "# User defined function that splits a DataFrame/column into two parts based on a Boolean column i.e \"work\"\n",
    "v1, v2 = col_split_bool(df, \"work\", \"no\", \"yes\")\n",
    "v1_no, v2_yes = v1[\"child6\"], v2[\"child6\"] # we are only intersted in the column:child6\n"
   ]
  },
  {
   "cell_type": "code",
   "execution_count": null,
   "metadata": {
    "colab": {
     "base_uri": "https://localhost:8080/",
     "height": 88
    },
    "colab_type": "code",
    "id": "WQjHUQ04HexS",
    "outputId": "de499ef0-97d2-4586-d7b0-4e3b430c81d2"
   },
   "outputs": [
    {
     "name": "stdout",
     "output_type": "stream",
     "text": [
      "Variance\n",
      "work = no: 0.1532\n",
      "work = yes: 0.4044\n",
      "ratio 2.6389\n"
     ]
    }
   ],
   "source": [
    "# Variance for both group\n",
    "print(\"Variance\")\n",
    "print(\"work = no:\",round(np.var(v1_no),4))\n",
    "print(\"work = yes:\", round(np.var(v2_yes),4))\n",
    "print (\"ratio\", round(np.var(v2_yes)/np.var(v1_no),4))"
   ]
  },
  {
   "cell_type": "code",
   "execution_count": null,
   "metadata": {
    "colab": {
     "base_uri": "https://localhost:8080/",
     "height": 35
    },
    "colab_type": "code",
    "id": "zoIhziLQZb41",
    "outputId": "6fb833b1-5ec2-42e0-94fe-54685a4d6e43"
   },
   "outputs": [
    {
     "data": {
      "text/plain": [
       "Ttest_indResult(statistic=5.996248963331758, pvalue=3.1359589130967792e-09)"
      ]
     },
     "execution_count": 63,
     "metadata": {
      "tags": []
     },
     "output_type": "execute_result"
    }
   ],
   "source": [
    "# Conducting t-test using Scipy\n",
    "# 2-tailed test for the null hypothesis that 2 independent samples have identical average(expected) values. This test assumes the populations have equal variance by default\n",
    "stats.ttest_ind(v2_yes, v1_no) \n"
   ]
  },
  {
   "cell_type": "markdown",
   "metadata": {
    "colab_type": "text",
    "id": "TsOmPsm5Z56J"
   },
   "source": [
    "We get a pvalue of 3.14* e-09, which is extremely small. It is smaller than alpha = 0.01. Hence, we can reject the null hypothesis. Note: to get pvalue for 1 tailed test(which is what we are interested in), divide the p-value by 2."
   ]
  },
  {
   "cell_type": "markdown",
   "metadata": {
    "colab_type": "text",
    "id": "Y3wVFalcllqk"
   },
   "source": [
    "RESULTS\n",
    "\n",
    "1.   t-statistic is positive\n",
    "2.   p-value = (3.14*e-09)/2 (i.e. p-value < 0.05)\n",
    "\n",
    "\n",
    "Hence, we are able to successfully reject the null hypothesis"
   ]
  },
  {
   "cell_type": "code",
   "execution_count": null,
   "metadata": {
    "colab": {
     "base_uri": "https://localhost:8080/",
     "height": 297
    },
    "colab_type": "code",
    "id": "UoTTH9WiZ0dM",
    "outputId": "3225b1c8-fe3e-4dbd-a967-89346ab060f2"
   },
   "outputs": [
    {
     "data": {
      "text/plain": [
       "[Text(0.5, 0, 'No. of children aged 6 and under')]"
      ]
     },
     "execution_count": 64,
     "metadata": {
      "tags": []
     },
     "output_type": "execute_result"
    },
    {
     "data": {
      "image/png": "[encoded data removed]",
      "text/plain": [
       "<Figure size 432x288 with 1 Axes>"
      ]
     },
     "metadata": {
      "needs_background": "light",
      "tags": []
     },
     "output_type": "display_data"
    }
   ],
   "source": [
    "cp = sns.countplot(x = \"child6\", data = df, hue = \"work\", palette= {\"no\": \"red\", \"yes\": \"green\"})\n",
    "cp.set(xlabel=\"No. of children aged 6 and under\")"
   ]
  },
  {
   "cell_type": "markdown",
   "metadata": {
    "colab_type": "text",
    "id": "d42e01uHvR3N"
   },
   "source": [
    "Observation: If you look at the sub-group of individuals with child6 = 0, we see that a higher percentage of the sub-group is not working. However, once child6 > 0, it is more likely that the individual is working."
   ]
  },
  {
   "cell_type": "markdown",
   "metadata": {
    "colab_type": "text",
    "id": "7LHxP30Gqi-m"
   },
   "source": [
    "### 4.2.2) Visualization"
   ]
  },
  {
   "cell_type": "code",
   "execution_count": null,
   "metadata": {
    "colab": {},
    "colab_type": "code",
    "id": "RF4fXAy-qi--"
   },
   "outputs": [],
   "source": [
    "# a new dataframe with a new column child6_bool\n",
    "# child6_bool = \"yes\" if a particular woman (observation) has atleast 1 child under 6, and  child6_bool = \"no\" otherwise\n",
    "df_hp2 = df.copy()\n",
    "df_hp2[\"child6_bool\"] = np.where(df_hp2[\"child6\"]> 0 , \"yes\", \"no\")"
   ]
  },
  {
   "cell_type": "code",
   "execution_count": null,
   "metadata": {
    "colab": {
     "base_uri": "https://localhost:8080/",
     "height": 200
    },
    "colab_type": "code",
    "id": "yAKtN2yvqi_O",
    "outputId": "f376dc2a-1b78-422f-e8d9-defa96e3428a"
   },
   "outputs": [
    {
     "data": {
      "text/html": [
       "<div>\n",
       "<style scoped>\n",
       "    .dataframe tbody tr th:only-of-type {\n",
       "        vertical-align: middle;\n",
       "    }\n",
       "\n",
       "    .dataframe tbody tr th {\n",
       "        vertical-align: top;\n",
       "    }\n",
       "\n",
       "    .dataframe thead th {\n",
       "        text-align: right;\n",
       "    }\n",
       "</style>\n",
       "<table border=\"1\" class=\"dataframe\">\n",
       "  <thead>\n",
       "    <tr style=\"text-align: right;\">\n",
       "      <th></th>\n",
       "      <th>work</th>\n",
       "      <th>child6</th>\n",
       "      <th>child618</th>\n",
       "      <th>agew</th>\n",
       "      <th>educw</th>\n",
       "      <th>ageh</th>\n",
       "      <th>educh</th>\n",
       "      <th>educwm</th>\n",
       "      <th>educwf</th>\n",
       "      <th>unemprate</th>\n",
       "      <th>city</th>\n",
       "      <th>child6_bool</th>\n",
       "    </tr>\n",
       "  </thead>\n",
       "  <tbody>\n",
       "    <tr>\n",
       "      <th>0</th>\n",
       "      <td>no</td>\n",
       "      <td>1</td>\n",
       "      <td>0</td>\n",
       "      <td>32</td>\n",
       "      <td>12</td>\n",
       "      <td>34</td>\n",
       "      <td>12</td>\n",
       "      <td>12</td>\n",
       "      <td>7</td>\n",
       "      <td>5.0</td>\n",
       "      <td>no</td>\n",
       "      <td>yes</td>\n",
       "    </tr>\n",
       "    <tr>\n",
       "      <th>1</th>\n",
       "      <td>no</td>\n",
       "      <td>0</td>\n",
       "      <td>2</td>\n",
       "      <td>30</td>\n",
       "      <td>12</td>\n",
       "      <td>30</td>\n",
       "      <td>9</td>\n",
       "      <td>7</td>\n",
       "      <td>7</td>\n",
       "      <td>11.0</td>\n",
       "      <td>yes</td>\n",
       "      <td>no</td>\n",
       "    </tr>\n",
       "    <tr>\n",
       "      <th>2</th>\n",
       "      <td>no</td>\n",
       "      <td>1</td>\n",
       "      <td>3</td>\n",
       "      <td>35</td>\n",
       "      <td>12</td>\n",
       "      <td>40</td>\n",
       "      <td>12</td>\n",
       "      <td>12</td>\n",
       "      <td>7</td>\n",
       "      <td>5.0</td>\n",
       "      <td>no</td>\n",
       "      <td>yes</td>\n",
       "    </tr>\n",
       "    <tr>\n",
       "      <th>3</th>\n",
       "      <td>no</td>\n",
       "      <td>0</td>\n",
       "      <td>3</td>\n",
       "      <td>34</td>\n",
       "      <td>12</td>\n",
       "      <td>53</td>\n",
       "      <td>10</td>\n",
       "      <td>7</td>\n",
       "      <td>7</td>\n",
       "      <td>5.0</td>\n",
       "      <td>no</td>\n",
       "      <td>no</td>\n",
       "    </tr>\n",
       "    <tr>\n",
       "      <th>4</th>\n",
       "      <td>no</td>\n",
       "      <td>1</td>\n",
       "      <td>2</td>\n",
       "      <td>31</td>\n",
       "      <td>14</td>\n",
       "      <td>32</td>\n",
       "      <td>12</td>\n",
       "      <td>12</td>\n",
       "      <td>14</td>\n",
       "      <td>9.5</td>\n",
       "      <td>yes</td>\n",
       "      <td>yes</td>\n",
       "    </tr>\n",
       "  </tbody>\n",
       "</table>\n",
       "</div>"
      ],
      "text/plain": [
       "  work  child6  child618  agew  ...  educwf  unemprate  city  child6_bool\n",
       "0   no       1         0    32  ...       7        5.0    no          yes\n",
       "1   no       0         2    30  ...       7       11.0   yes           no\n",
       "2   no       1         3    35  ...       7        5.0    no          yes\n",
       "3   no       0         3    34  ...       7        5.0    no           no\n",
       "4   no       1         2    31  ...      14        9.5   yes          yes\n",
       "\n",
       "[5 rows x 12 columns]"
      ]
     },
     "execution_count": 252,
     "metadata": {
      "tags": []
     },
     "output_type": "execute_result"
    }
   ],
   "source": [
    "df_hp2.head()"
   ]
  },
  {
   "cell_type": "code",
   "execution_count": null,
   "metadata": {
    "colab": {
     "base_uri": "https://localhost:8080/",
     "height": 650
    },
    "colab_type": "code",
    "id": "p8huPScWqi_a",
    "outputId": "80c087ae-32cf-4a3c-d3d9-78db62401187"
   },
   "outputs": [
    {
     "data": {
      "text/plain": [
       "[Text(0.5, 0, 'wife with atleast 1 child under 6 years?')]"
      ]
     },
     "execution_count": 254,
     "metadata": {
      "tags": []
     },
     "output_type": "execute_result"
    },
    {
     "data": {
      "image/png": "[encoded data removed]",
      "text/plain": [
       "<Figure size 720x720 with 1 Axes>"
      ]
     },
     "metadata": {
      "tags": []
     },
     "output_type": "display_data"
    }
   ],
   "source": [
    "# Utilize this new column to create this countplot\n",
    "plt.figure(figsize=(10,10))\n",
    "g = sns.countplot(df_hp2[\"child6_bool\"], data = df_hp2, hue = \"work\", palette={\"yes\": \"green\", \"no\": \"red\"}, saturation=0.3 )\n",
    "g.set(xlabel = \"wife with atleast 1 child under 6 years?\")"
   ]
  },
  {
   "cell_type": "markdown",
   "metadata": {
    "colab_type": "text",
    "id": "jlTacO8Qqi_n"
   },
   "source": [
    "**Means of two subgroups with standard error**\n"
   ]
  },
  {
   "cell_type": "code",
   "execution_count": null,
   "metadata": {
    "colab": {},
    "colab_type": "code",
    "id": "Arf9w5zuqi_q"
   },
   "outputs": [],
   "source": [
    "to_binary(df_hp2, \"work\", \"yes\", \"no\")  # replace yes/no with 1/0 in column:work\n",
    "df_hp2[\"work\"] = df_hp2[\"work\"].astype(int) # convert the datatype of column:work to int"
   ]
  },
  {
   "cell_type": "code",
   "execution_count": null,
   "metadata": {
    "colab": {
     "base_uri": "https://localhost:8080/",
     "height": 692
    },
    "colab_type": "code",
    "id": "t0VMYoWwqi_x",
    "outputId": "09005f34-95c4-4592-9bd0-4b05955d705b"
   },
   "outputs": [
    {
     "data": {
      "text/plain": [
       "[Text(0, 0.5, 'proportion of wife working'),\n",
       " Text(0.5, 0, 'Wife at least 1 child under 6?')]"
      ]
     },
     "execution_count": 262,
     "metadata": {
      "tags": []
     },
     "output_type": "execute_result"
    },
    {
     "data": {
      "image/png": "[encoded data removed]",
      "text/plain": [
       "<Figure size 720x720 with 1 Axes>"
      ]
     },
     "metadata": {
      "tags": []
     },
     "output_type": "display_data"
    }
   ],
   "source": [
    "plt.figure(figsize=(10,10))\n",
    "g = sns.barplot(x = \"child6_bool\", y = \"work\",data = df_hp2, errwidth=5, capsize=0.05, ci = 95, palette={\"yes\": \"green\", \"no\": \"red\"}, saturation=0.3) # with 95% confidence interval\n",
    "g.set_title(\"Child under 6 & Employment Status\")\n",
    "g.set(xlabel = \"Wife at least 1 child under 6?\",\n",
    "      ylabel = \"proportion of wife working\")\n"
   ]
  },
  {
   "cell_type": "markdown",
   "metadata": {
    "colab_type": "text",
    "id": "CYjHbtKvE1PQ"
   },
   "source": [
    "### 4.2.3) Optional Further Analysis"
   ]
  },
  {
   "cell_type": "markdown",
   "metadata": {
    "colab_type": "text",
    "id": "k3Qzaxp1tg0k"
   },
   "source": [
    "Perhaps, the confouding variable here could be age, younger individuals might be unemployed and have no kids. Let us explore that next"
   ]
  },
  {
   "cell_type": "code",
   "execution_count": null,
   "metadata": {
    "colab": {
     "base_uri": "https://localhost:8080/",
     "height": 70
    },
    "colab_type": "code",
    "id": "kuCzaHBoy9qn",
    "outputId": "1c334810-c593-41f5-c072-a9f4c93111b5"
   },
   "outputs": [
    {
     "data": {
      "text/plain": [
       "no     0.568393\n",
       "yes    0.431607\n",
       "Name: work, dtype: float64"
      ]
     },
     "execution_count": 65,
     "metadata": {
      "tags": []
     },
     "output_type": "execute_result"
    }
   ],
   "source": [
    "df[\"work\"].value_counts(normalize = True)"
   ]
  },
  {
   "cell_type": "code",
   "execution_count": null,
   "metadata": {
    "colab": {
     "base_uri": "https://localhost:8080/",
     "height": 641
    },
    "colab_type": "code",
    "id": "t_AUA-dWpJeV",
    "outputId": "f61d1bf3-0044-4fd1-eb27-98b1ee21d825"
   },
   "outputs": [
    {
     "data": {
      "text/plain": [
       "[Text(0, 0.5, 'no of individuals (not/) working'),\n",
       " Text(0.5, 0, 'age of women')]"
      ]
     },
     "execution_count": 66,
     "metadata": {
      "tags": []
     },
     "output_type": "execute_result"
    },
    {
     "data": {
      "image/png": "[encoded data removed]",
      "text/plain": [
       "<Figure size 1080x720 with 1 Axes>"
      ]
     },
     "metadata": {
      "needs_background": "light",
      "tags": []
     },
     "output_type": "display_data"
    }
   ],
   "source": [
    "plt.figure(figsize=(15,10))\n",
    "cp = sns.countplot(x = \"agew\", data = df, hue = \"work\", palette= {\"no\": \"red\", \"yes\": \"green\"})\n",
    "cp.set(xlabel=\"age of women\", ylabel= \"no of individuals (not/) working\")"
   ]
  },
  {
   "cell_type": "markdown",
   "metadata": {
    "colab_type": "text",
    "id": "1wr1cN_4z4d_"
   },
   "source": [
    "**H2:Logistic regression to test if age can predict unemployment**"
   ]
  },
  {
   "cell_type": "code",
   "execution_count": null,
   "metadata": {
    "colab": {},
    "colab_type": "code",
    "id": "ERF69tPz0_A2"
   },
   "outputs": [],
   "source": [
    "#loading sklearn modules\n",
    "from sklearn.model_selection import train_test_split\n",
    "from sklearn import metrics # for confucion metrics\n",
    "from sklearn.datasets import load_digits"
   ]
  },
  {
   "cell_type": "code",
   "execution_count": null,
   "metadata": {
    "colab": {},
    "colab_type": "code",
    "id": "TOhizDfz4gTv"
   },
   "outputs": [],
   "source": [
    "# assigning data, and target\n",
    "target = np.array(df[\"work\"])\n",
    "#data = np.array(df[\"agew\"]).reshape(-1,1)\n",
    "\n",
    "data = df.drop([\"work\", \"city\"], axis = 1).values"
   ]
  },
  {
   "cell_type": "code",
   "execution_count": null,
   "metadata": {
    "colab": {},
    "colab_type": "code",
    "id": "BwmaU4o_3T2l"
   },
   "outputs": [],
   "source": [
    "# Splitting the data into Training and Test sets\n",
    "X_train, X_test, y_train, y_test = train_test_split(data, target, test_size = 0.25) #not assigning random state to be constant, because the model doesn't perform"
   ]
  },
  {
   "cell_type": "code",
   "execution_count": null,
   "metadata": {
    "colab": {},
    "colab_type": "code",
    "id": "jluu0Z3n8jhK"
   },
   "outputs": [],
   "source": [
    " from sklearn import preprocessing\n",
    "X_scaled = preprocessing.scale(X_train)"
   ]
  },
  {
   "cell_type": "code",
   "execution_count": null,
   "metadata": {
    "colab": {
     "base_uri": "https://localhost:8080/",
     "height": 88
    },
    "colab_type": "code",
    "id": "mUQmll4Z888o",
    "outputId": "e5efac7a-0660-4b10-bc5a-6437addf2f02"
   },
   "outputs": [
    {
     "name": "stdout",
     "output_type": "stream",
     "text": [
      "[-2.06887305e-16  2.19879276e-16  3.82082073e-16  1.90155220e-16\n",
      "  3.01964915e-16  1.03935773e-16 -2.47241156e-16 -2.89366639e-16\n",
      "  9.33059776e-17]\n",
      "[1. 1. 1. 1. 1. 1. 1. 1. 1.]\n"
     ]
    }
   ],
   "source": [
    "print(X_scaled.mean(axis=0))\n",
    "print(X_scaled.std(axis=0))\n"
   ]
  },
  {
   "cell_type": "code",
   "execution_count": null,
   "metadata": {
    "colab": {},
    "colab_type": "code",
    "id": "0Y79aB-o2CQP"
   },
   "outputs": [],
   "source": [
    "# SkLearn 4 step modeling pattern\n",
    "# 1. Import the model you want to use\n",
    "# 2. Make an instance of the Model\n",
    "# 3. Training the model on the data, storing the information learned from the data\n",
    "# 4. Predict the labels of the new data (test data)\n"
   ]
  },
  {
   "cell_type": "code",
   "execution_count": null,
   "metadata": {
    "colab": {},
    "colab_type": "code",
    "id": "IJXuxhgM-DK8"
   },
   "outputs": [],
   "source": [
    "#1.\n",
    "from sklearn.linear_model import LogisticRegression"
   ]
  },
  {
   "cell_type": "code",
   "execution_count": null,
   "metadata": {
    "colab": {},
    "colab_type": "code",
    "id": "TWqPKW-C2QYh"
   },
   "outputs": [],
   "source": [
    "#2.\n",
    "logisticRegr = LogisticRegression()"
   ]
  },
  {
   "cell_type": "code",
   "execution_count": null,
   "metadata": {
    "colab": {
     "base_uri": "https://localhost:8080/",
     "height": 106
    },
    "colab_type": "code",
    "id": "CTknLvJU2aW1",
    "outputId": "7b7d0839-085f-4728-8750-8257a50b7ff5"
   },
   "outputs": [
    {
     "data": {
      "text/plain": [
       "LogisticRegression(C=1.0, class_weight=None, dual=False, fit_intercept=True,\n",
       "                   intercept_scaling=1, l1_ratio=None, max_iter=100,\n",
       "                   multi_class='auto', n_jobs=None, penalty='l2',\n",
       "                   random_state=None, solver='lbfgs', tol=0.0001, verbose=0,\n",
       "                   warm_start=False)"
      ]
     },
     "execution_count": 75,
     "metadata": {
      "tags": []
     },
     "output_type": "execute_result"
    }
   ],
   "source": [
    "#3.\n",
    "#logisticRegr.fit(X_train, y_train)\n",
    "logisticRegr.fit(X_scaled, y_train)\n"
   ]
  },
  {
   "cell_type": "code",
   "execution_count": null,
   "metadata": {
    "colab": {
     "base_uri": "https://localhost:8080/",
     "height": 35
    },
    "colab_type": "code",
    "id": "N3CzeVZs-IEb",
    "outputId": "7dad5df6-599d-4141-e91f-ab0a3b59d562"
   },
   "outputs": [
    {
     "data": {
      "text/plain": [
       "array(['yes'], dtype=object)"
      ]
     },
     "execution_count": 76,
     "metadata": {
      "tags": []
     },
     "output_type": "execute_result"
    }
   ],
   "source": [
    "#4.\n",
    "# Returns a Numpy Array\n",
    "# Predict for One Observation\n",
    "logisticRegr.predict(X_test[0].reshape(1,-1))"
   ]
  },
  {
   "cell_type": "code",
   "execution_count": null,
   "metadata": {
    "colab": {
     "base_uri": "https://localhost:8080/",
     "height": 52
    },
    "colab_type": "code",
    "id": "8pBM_c8--ihb",
    "outputId": "92a52d52-efd2-4a00-a583-c1633f08386a"
   },
   "outputs": [
    {
     "data": {
      "text/plain": [
       "array(['yes', 'yes', 'yes', 'yes', 'yes', 'yes', 'yes', 'yes', 'yes',\n",
       "       'yes'], dtype=object)"
      ]
     },
     "execution_count": 77,
     "metadata": {
      "tags": []
     },
     "output_type": "execute_result"
    }
   ],
   "source": [
    "# Predict for multiple observations at once\n",
    "logisticRegr.predict(X_test[0:10])"
   ]
  },
  {
   "cell_type": "code",
   "execution_count": null,
   "metadata": {
    "colab": {},
    "colab_type": "code",
    "id": "wH9ZUnds-pA7"
   },
   "outputs": [],
   "source": [
    "# Predict for the entire test data\n",
    "predictions = logisticRegr.predict(X_test)"
   ]
  },
  {
   "cell_type": "markdown",
   "metadata": {
    "colab_type": "text",
    "id": "gtz4JbMx-4aU"
   },
   "source": [
    "Measuring Model Performance"
   ]
  },
  {
   "cell_type": "code",
   "execution_count": null,
   "metadata": {
    "colab": {
     "base_uri": "https://localhost:8080/",
     "height": 35
    },
    "colab_type": "code",
    "id": "7zVNknUm-wfS",
    "outputId": "88c96457-7fb7-4690-bb4b-05ba54bb2374"
   },
   "outputs": [
    {
     "name": "stdout",
     "output_type": "stream",
     "text": [
      "0.4126984126984127\n"
     ]
    }
   ],
   "source": [
    "# Use score method to get accuracy of model\n",
    "score = logisticRegr.score(X_test,y_test)\n",
    "print(score)"
   ]
  },
  {
   "cell_type": "code",
   "execution_count": null,
   "metadata": {
    "colab": {},
    "colab_type": "code",
    "id": "_QO4234_-yHM"
   },
   "outputs": [],
   "source": [
    "# Use confusion matrix (seaborn)\n",
    "cm = metrics.confusion_matrix(y_test, predictions)"
   ]
  },
  {
   "cell_type": "code",
   "execution_count": null,
   "metadata": {
    "colab": {
     "base_uri": "https://localhost:8080/",
     "height": 525
    },
    "colab_type": "code",
    "id": "AQWjn_91-ykU",
    "outputId": "75db0f80-0fb4-4b9d-e241-f52927fe9a09"
   },
   "outputs": [
    {
     "name": "stderr",
     "output_type": "stream",
     "text": [
      "findfont: Font family ['normal'] not found. Falling back to DejaVu Sans.\n",
      "findfont: Font family ['normal'] not found. Falling back to DejaVu Sans.\n",
      "findfont: Font family ['normal'] not found. Falling back to DejaVu Sans.\n"
     ]
    },
    {
     "data": {
      "image/png": "[encoded data removed]",
      "text/plain": [
       "<Figure size 576x576 with 2 Axes>"
      ]
     },
     "metadata": {
      "needs_background": "light",
      "tags": []
     },
     "output_type": "display_data"
    }
   ],
   "source": [
    "plt.figure(figsize = (8,8))\n",
    "sns.heatmap(cm, annot = True, annot_kws={\"size\": 30},fmt= '.1f', square = True, cmap = 'RdBu');\n",
    "plt.ylabel('Actual label');\n",
    "plt.xlabel('Predicted label');\n",
    "all_sample_title = 'Accuracy Score: {0}'.format(score)\n",
    "plt.title(all_sample_title, size = 15);\n",
    "sns.set(font_scale=2)"
   ]
  },
  {
   "cell_type": "markdown",
   "metadata": {
    "colab_type": "text",
    "id": "kK7ffkrgFZCf"
   },
   "source": [
    "Our model fails horribly, predictcting 1 everytime"
   ]
  },
  {
   "cell_type": "markdown",
   "metadata": {
    "colab_type": "text",
    "id": "oO6ypaQocFL_"
   },
   "source": [
    "## 4.3) Hypothesis # 3"
   ]
  },
  {
   "cell_type": "markdown",
   "metadata": {
    "colab_type": "text",
    "id": "UM2oiQPbguLn"
   },
   "source": [
    "### 4.3.1) Test"
   ]
  },
  {
   "cell_type": "markdown",
   "metadata": {
    "colab_type": "text",
    "id": "SgZwfCrhXO2K"
   },
   "source": [
    "**Effect of educational attainment of wife's parent on wife's employment status**"
   ]
  },
  {
   "cell_type": "markdown",
   "metadata": {
    "colab_type": "text",
    "id": "n6Ch_bkdkN9V"
   },
   "source": [
    "The two populations refer to the sub-group of wifes with both parents with atleast 7 years of education, and those without.\n",
    "\n",
    "1.   Null hypothesis: The proportions of wives working for the two populations are equal.\n",
    "\n",
    "2.   Alternative hypothesis: The proportions of wives working for the two populations are different. (More specifically, the proportions of wives working is lower for those with both parents with atleast 7 years of education)\n",
    "\n"
   ]
  },
  {
   "cell_type": "markdown",
   "metadata": {
    "colab_type": "text",
    "id": "eiZAL9VkkRYE"
   },
   "source": [
    "Notations\n",
    "\n",
    "1.  yes_parents_edu = proportion of wife working, with both parents have atleast 7 years of education, and \n",
    "2.  no_parents_edu = proportion of wife working, with at least one parent has less than 7 years of education\n",
    "\n"
   ]
  },
  {
   "cell_type": "markdown",
   "metadata": {
    "colab_type": "text",
    "id": "Nl9oKJuWkE5_"
   },
   "source": [
    "HYPOTHESIS <br>Pre-determined alpha = 0.05\n",
    "\n",
    "1.   Null         :  yes_parents_edu = no_parents_edu \n",
    "2.   Alternative  : no_parents_edu - yes_parents_edu >0"
   ]
  },
  {
   "cell_type": "code",
   "execution_count": null,
   "metadata": {
    "colab": {
     "base_uri": "https://localhost:8080/",
     "height": 324
    },
    "colab_type": "code",
    "id": "5fIqBAkPYLzO",
    "outputId": "0e5a39fd-2297-41fd-a218-55126bd49701"
   },
   "outputs": [
    {
     "data": {
      "text/plain": [
       "[Text(0.5, 0, \"educational attainment of Wife's Mother\")]"
      ]
     },
     "execution_count": 191,
     "metadata": {
      "tags": []
     },
     "output_type": "execute_result"
    },
    {
     "data": {
      "image/png": "[encoded data removed]",
      "text/plain": [
       "<Figure size 432x288 with 1 Axes>"
      ]
     },
     "metadata": {
      "tags": []
     },
     "output_type": "display_data"
    }
   ],
   "source": [
    "g = sns.countplot(df[\"educwm\"])\n",
    "g.set(xlabel = \"educational attainment of Wife's Mother\")"
   ]
  },
  {
   "cell_type": "code",
   "execution_count": null,
   "metadata": {
    "colab": {
     "base_uri": "https://localhost:8080/",
     "height": 324
    },
    "colab_type": "code",
    "id": "g7M7J5dpdcb-",
    "outputId": "a5dfbaa2-72f8-4897-a308-9313983fe78e"
   },
   "outputs": [
    {
     "data": {
      "text/plain": [
       "[Text(0.5, 0, \"educational attainment of Wife's Father\")]"
      ]
     },
     "execution_count": 192,
     "metadata": {
      "tags": []
     },
     "output_type": "execute_result"
    },
    {
     "data": {
      "image/png": "[encoded data removed]",
      "text/plain": [
       "<Figure size 432x288 with 1 Axes>"
      ]
     },
     "metadata": {
      "tags": []
     },
     "output_type": "display_data"
    }
   ],
   "source": [
    "g = sns.countplot(df[\"educwf\"])\n",
    "g.set(xlabel = \"educational attainment of Wife's Father\")"
   ]
  },
  {
   "cell_type": "code",
   "execution_count": null,
   "metadata": {
    "colab": {},
    "colab_type": "code",
    "id": "pSWFao4MbWuQ"
   },
   "outputs": [],
   "source": [
    "# Not using the UDFunction because it can only take one column\n",
    "column1 = \"educwm\"\n",
    "column2 = \"educwf\"\n",
    "cutoff = 7 # I have selected 7 has cutoff because if you look at the histograms of educwm and educf, 7 is the MODE (i.e. has the highest frequency)\n",
    "\n",
    "yes_parents_edu = df[(df[column1] >= cutoff) & (df[column2]>=cutoff)].copy()\n",
    "no_parents_edu = df[(df[column1] < cutoff) & (df[column2]<cutoff)].copy()\n",
    "\n",
    "# Note: We are not using the entire Dataframe here\n",
    "# i.e equal_more UNION less != df\n"
   ]
  },
  {
   "cell_type": "code",
   "execution_count": null,
   "metadata": {
    "colab": {
     "base_uri": "https://localhost:8080/",
     "height": 70
    },
    "colab_type": "code",
    "id": "8GdX8a16Yphq",
    "outputId": "2f7f70a1-82fc-45fd-c117-46961a1ac76c"
   },
   "outputs": [
    {
     "data": {
      "text/plain": [
       "yes    0.420732\n",
       "no     0.579268\n",
       "Name: work, dtype: float64"
      ]
     },
     "execution_count": 222,
     "metadata": {
      "tags": []
     },
     "output_type": "execute_result"
    }
   ],
   "source": [
    "yes_parents_edu[\"work\"].value_counts(normalize = True).sort_index(ascending = False)"
   ]
  },
  {
   "cell_type": "code",
   "execution_count": null,
   "metadata": {
    "colab": {
     "base_uri": "https://localhost:8080/",
     "height": 70
    },
    "colab_type": "code",
    "id": "GQ84dmkoZUQn",
    "outputId": "d7dad7e8-b720-44bc-b1b4-5abc7a01290f"
   },
   "outputs": [
    {
     "data": {
      "text/plain": [
       "yes    0.645161\n",
       "no     0.354839\n",
       "Name: work, dtype: float64"
      ]
     },
     "execution_count": 223,
     "metadata": {
      "tags": []
     },
     "output_type": "execute_result"
    }
   ],
   "source": [
    "no_parents_edu[\"work\"].value_counts(normalize = True).sort_index(ascending = False)"
   ]
  },
  {
   "cell_type": "code",
   "execution_count": null,
   "metadata": {
    "colab": {},
    "colab_type": "code",
    "id": "e66GLJphe_ge"
   },
   "outputs": [],
   "source": [
    "# Using User Defined function to replace the values in column:work from Yes/No to 1/0\n",
    "to_binary(yes_parents_edu,\"work\",\"yes\", \"no\")\n",
    "to_binary(no_parents_edu,\"work\",\"yes\", \"no\")\n"
   ]
  },
  {
   "cell_type": "code",
   "execution_count": null,
   "metadata": {
    "colab": {
     "base_uri": "https://localhost:8080/",
     "height": 88
    },
    "colab_type": "code",
    "id": "wS5yjAmFjk1_",
    "outputId": "bbd0ecb4-4fbb-42b9-c733-9e92b9737f5e"
   },
   "outputs": [
    {
     "name": "stdout",
     "output_type": "stream",
     "text": [
      "Variance\n",
      "educwf & educwm >= 7 : 0.2437\n",
      "educwf & educwm < 7 : 0.2289\n",
      "ratio 1.0646\n"
     ]
    }
   ],
   "source": [
    "# Variance for both group\n",
    "print(\"Variance\")\n",
    "print(\"educwf & educwm >= 7 :\",round(np.var(yes_parents_edu[\"work\"]),4))\n",
    "print(\"educwf & educwm < 7 :\", round(np.var(no_parents_edu[\"work\"]),4))\n",
    "print (\"ratio\", round(np.var(yes_parents_edu[\"work\"])/np.var(no_parents_edu[\"work\"]),4))"
   ]
  },
  {
   "cell_type": "code",
   "execution_count": null,
   "metadata": {
    "colab": {
     "base_uri": "https://localhost:8080/",
     "height": 35
    },
    "colab_type": "code",
    "id": "w8g5ROvAZXyE",
    "outputId": "78bf2ee4-e500-42d2-e3d0-93fb1cfa8a82"
   },
   "outputs": [
    {
     "data": {
      "text/plain": [
       "Ttest_indResult(statistic=-2.4731718263976092, pvalue=0.013633498304591055)"
      ]
     },
     "execution_count": 228,
     "metadata": {
      "tags": []
     },
     "output_type": "execute_result"
    }
   ],
   "source": [
    "# Conducting t-test using Scipy\n",
    "# 2-tailed test for the null hypothesis that 2 independent samples have identical average(expected) values. This test assumes the populations have equal variance by default\n",
    "stats.ttest_ind(yes_parents_edu[\"work\"], no_parents_edu[\"work\"]) \n"
   ]
  },
  {
   "cell_type": "markdown",
   "metadata": {
    "colab_type": "text",
    "id": "ailBaxjWj83m"
   },
   "source": [
    "RESULTS\n",
    "\n",
    "1.   t-statistic is positive\n",
    "2.   p-value = (0.0136)/2 (i.e. p-value < 0.05)\n",
    "\n",
    "\n",
    "Hence, we are able to successfully reject the null hypothesis"
   ]
  },
  {
   "cell_type": "markdown",
   "metadata": {
    "colab_type": "text",
    "id": "xRFLhflugYF1"
   },
   "source": [
    "Additionally, I conducted the same test using cutoff = 12, which produced a p-value of (0.17/2 = 0.085), hence insignifcant at alpha = 0.05"
   ]
  },
  {
   "cell_type": "markdown",
   "metadata": {
    "colab_type": "text",
    "id": "1QhATNk4gyjN"
   },
   "source": [
    "### 4.3.2) Visualization"
   ]
  },
  {
   "cell_type": "code",
   "execution_count": null,
   "metadata": {
    "colab": {},
    "colab_type": "code",
    "id": "GwFgzNNogXkN"
   },
   "outputs": [],
   "source": [
    "# a new dataframe with a new column parents_edu\n",
    "# parents_edu = \"yes\" if both parents have atleast 7 years of education, and  parents_edu = \"no\" otherwise\n",
    "df_hp3 = df.copy()\n",
    "df_hp3[\"parents_edu\"] = np.where((df_hp3[\"educwm\"]>= 7) & (df_hp3[\"educwf\"]>= 7) , \"yes\", \"no\")"
   ]
  },
  {
   "cell_type": "code",
   "execution_count": null,
   "metadata": {
    "colab": {
     "base_uri": "https://localhost:8080/",
     "height": 352
    },
    "colab_type": "code",
    "id": "hatT4jTfm0KQ",
    "outputId": "a1baa6a2-f787-4e38-950e-db45da85c429"
   },
   "outputs": [
    {
     "data": {
      "text/html": [
       "<div>\n",
       "<style scoped>\n",
       "    .dataframe tbody tr th:only-of-type {\n",
       "        vertical-align: middle;\n",
       "    }\n",
       "\n",
       "    .dataframe tbody tr th {\n",
       "        vertical-align: top;\n",
       "    }\n",
       "\n",
       "    .dataframe thead th {\n",
       "        text-align: right;\n",
       "    }\n",
       "</style>\n",
       "<table border=\"1\" class=\"dataframe\">\n",
       "  <thead>\n",
       "    <tr style=\"text-align: right;\">\n",
       "      <th></th>\n",
       "      <th>work</th>\n",
       "      <th>child6</th>\n",
       "      <th>child618</th>\n",
       "      <th>agew</th>\n",
       "      <th>educw</th>\n",
       "      <th>ageh</th>\n",
       "      <th>educh</th>\n",
       "      <th>educwm</th>\n",
       "      <th>educwf</th>\n",
       "      <th>unemprate</th>\n",
       "      <th>city</th>\n",
       "      <th>parents_edu</th>\n",
       "    </tr>\n",
       "  </thead>\n",
       "  <tbody>\n",
       "    <tr>\n",
       "      <th>0</th>\n",
       "      <td>no</td>\n",
       "      <td>1</td>\n",
       "      <td>0</td>\n",
       "      <td>32</td>\n",
       "      <td>12</td>\n",
       "      <td>34</td>\n",
       "      <td>12</td>\n",
       "      <td>12</td>\n",
       "      <td>7</td>\n",
       "      <td>5.0</td>\n",
       "      <td>no</td>\n",
       "      <td>yes</td>\n",
       "    </tr>\n",
       "    <tr>\n",
       "      <th>1</th>\n",
       "      <td>no</td>\n",
       "      <td>0</td>\n",
       "      <td>2</td>\n",
       "      <td>30</td>\n",
       "      <td>12</td>\n",
       "      <td>30</td>\n",
       "      <td>9</td>\n",
       "      <td>7</td>\n",
       "      <td>7</td>\n",
       "      <td>11.0</td>\n",
       "      <td>yes</td>\n",
       "      <td>yes</td>\n",
       "    </tr>\n",
       "    <tr>\n",
       "      <th>2</th>\n",
       "      <td>no</td>\n",
       "      <td>1</td>\n",
       "      <td>3</td>\n",
       "      <td>35</td>\n",
       "      <td>12</td>\n",
       "      <td>40</td>\n",
       "      <td>12</td>\n",
       "      <td>12</td>\n",
       "      <td>7</td>\n",
       "      <td>5.0</td>\n",
       "      <td>no</td>\n",
       "      <td>yes</td>\n",
       "    </tr>\n",
       "    <tr>\n",
       "      <th>3</th>\n",
       "      <td>no</td>\n",
       "      <td>0</td>\n",
       "      <td>3</td>\n",
       "      <td>34</td>\n",
       "      <td>12</td>\n",
       "      <td>53</td>\n",
       "      <td>10</td>\n",
       "      <td>7</td>\n",
       "      <td>7</td>\n",
       "      <td>5.0</td>\n",
       "      <td>no</td>\n",
       "      <td>yes</td>\n",
       "    </tr>\n",
       "    <tr>\n",
       "      <th>4</th>\n",
       "      <td>no</td>\n",
       "      <td>1</td>\n",
       "      <td>2</td>\n",
       "      <td>31</td>\n",
       "      <td>14</td>\n",
       "      <td>32</td>\n",
       "      <td>12</td>\n",
       "      <td>12</td>\n",
       "      <td>14</td>\n",
       "      <td>9.5</td>\n",
       "      <td>yes</td>\n",
       "      <td>yes</td>\n",
       "    </tr>\n",
       "    <tr>\n",
       "      <th>5</th>\n",
       "      <td>no</td>\n",
       "      <td>0</td>\n",
       "      <td>0</td>\n",
       "      <td>54</td>\n",
       "      <td>12</td>\n",
       "      <td>57</td>\n",
       "      <td>11</td>\n",
       "      <td>14</td>\n",
       "      <td>7</td>\n",
       "      <td>7.5</td>\n",
       "      <td>yes</td>\n",
       "      <td>yes</td>\n",
       "    </tr>\n",
       "    <tr>\n",
       "      <th>6</th>\n",
       "      <td>no</td>\n",
       "      <td>0</td>\n",
       "      <td>2</td>\n",
       "      <td>37</td>\n",
       "      <td>16</td>\n",
       "      <td>37</td>\n",
       "      <td>12</td>\n",
       "      <td>14</td>\n",
       "      <td>7</td>\n",
       "      <td>5.0</td>\n",
       "      <td>no</td>\n",
       "      <td>yes</td>\n",
       "    </tr>\n",
       "    <tr>\n",
       "      <th>7</th>\n",
       "      <td>no</td>\n",
       "      <td>0</td>\n",
       "      <td>0</td>\n",
       "      <td>54</td>\n",
       "      <td>12</td>\n",
       "      <td>53</td>\n",
       "      <td>8</td>\n",
       "      <td>3</td>\n",
       "      <td>3</td>\n",
       "      <td>5.0</td>\n",
       "      <td>no</td>\n",
       "      <td>no</td>\n",
       "    </tr>\n",
       "    <tr>\n",
       "      <th>8</th>\n",
       "      <td>no</td>\n",
       "      <td>0</td>\n",
       "      <td>2</td>\n",
       "      <td>48</td>\n",
       "      <td>12</td>\n",
       "      <td>52</td>\n",
       "      <td>4</td>\n",
       "      <td>7</td>\n",
       "      <td>7</td>\n",
       "      <td>3.0</td>\n",
       "      <td>no</td>\n",
       "      <td>yes</td>\n",
       "    </tr>\n",
       "    <tr>\n",
       "      <th>9</th>\n",
       "      <td>no</td>\n",
       "      <td>0</td>\n",
       "      <td>2</td>\n",
       "      <td>39</td>\n",
       "      <td>12</td>\n",
       "      <td>43</td>\n",
       "      <td>12</td>\n",
       "      <td>7</td>\n",
       "      <td>7</td>\n",
       "      <td>5.0</td>\n",
       "      <td>no</td>\n",
       "      <td>yes</td>\n",
       "    </tr>\n",
       "  </tbody>\n",
       "</table>\n",
       "</div>"
      ],
      "text/plain": [
       "  work  child6  child618  agew  ...  educwf  unemprate  city  parents_edu\n",
       "0   no       1         0    32  ...       7        5.0    no          yes\n",
       "1   no       0         2    30  ...       7       11.0   yes          yes\n",
       "2   no       1         3    35  ...       7        5.0    no          yes\n",
       "3   no       0         3    34  ...       7        5.0    no          yes\n",
       "4   no       1         2    31  ...      14        9.5   yes          yes\n",
       "5   no       0         0    54  ...       7        7.5   yes          yes\n",
       "6   no       0         2    37  ...       7        5.0    no          yes\n",
       "7   no       0         0    54  ...       3        5.0    no           no\n",
       "8   no       0         2    48  ...       7        3.0    no          yes\n",
       "9   no       0         2    39  ...       7        5.0    no          yes\n",
       "\n",
       "[10 rows x 12 columns]"
      ]
     },
     "execution_count": 234,
     "metadata": {
      "tags": []
     },
     "output_type": "execute_result"
    }
   ],
   "source": [
    "df_hp3.head(n = 10)"
   ]
  },
  {
   "cell_type": "code",
   "execution_count": null,
   "metadata": {
    "colab": {
     "base_uri": "https://localhost:8080/",
     "height": 650
    },
    "colab_type": "code",
    "id": "HqZvGvVjm-Pv",
    "outputId": "3f4bfb80-2339-424b-fa67-d784c09557e8"
   },
   "outputs": [
    {
     "data": {
      "text/plain": [
       "[Text(0.5, 0, 'Both parents with atleast 7 years of edu?')]"
      ]
     },
     "execution_count": 239,
     "metadata": {
      "tags": []
     },
     "output_type": "execute_result"
    },
    {
     "data": {
      "image/png": "[encoded data removed]",
      "text/plain": [
       "<Figure size 720x720 with 1 Axes>"
      ]
     },
     "metadata": {
      "tags": []
     },
     "output_type": "display_data"
    }
   ],
   "source": [
    "# Utilize this new column to create this countplot\n",
    "plt.figure(figsize=(10,10))\n",
    "g = sns.countplot(df_hp3[\"parents_edu\"], data = df_hp3, hue = \"work\", palette={\"yes\": \"green\", \"no\": \"red\"}, saturation=0.3 )\n",
    "g.set(xlabel = \"Both parents with atleast 7 years of edu?\")"
   ]
  },
  {
   "cell_type": "markdown",
   "metadata": {
    "colab_type": "text",
    "id": "0ZMSVnYlnhzm"
   },
   "source": [
    "**Means of two subgroups with standard error**\n"
   ]
  },
  {
   "cell_type": "code",
   "execution_count": null,
   "metadata": {
    "colab": {
     "base_uri": "https://localhost:8080/",
     "height": 200
    },
    "colab_type": "code",
    "id": "pmIuSA-MoDrf",
    "outputId": "a6b6e268-bf2e-4eda-89c1-dd9bae5a5134"
   },
   "outputs": [
    {
     "data": {
      "text/html": [
       "<div>\n",
       "<style scoped>\n",
       "    .dataframe tbody tr th:only-of-type {\n",
       "        vertical-align: middle;\n",
       "    }\n",
       "\n",
       "    .dataframe tbody tr th {\n",
       "        vertical-align: top;\n",
       "    }\n",
       "\n",
       "    .dataframe thead th {\n",
       "        text-align: right;\n",
       "    }\n",
       "</style>\n",
       "<table border=\"1\" class=\"dataframe\">\n",
       "  <thead>\n",
       "    <tr style=\"text-align: right;\">\n",
       "      <th></th>\n",
       "      <th>work</th>\n",
       "      <th>child6</th>\n",
       "      <th>child618</th>\n",
       "      <th>agew</th>\n",
       "      <th>educw</th>\n",
       "      <th>ageh</th>\n",
       "      <th>educh</th>\n",
       "      <th>educwm</th>\n",
       "      <th>educwf</th>\n",
       "      <th>unemprate</th>\n",
       "      <th>city</th>\n",
       "      <th>parents_edu</th>\n",
       "    </tr>\n",
       "  </thead>\n",
       "  <tbody>\n",
       "    <tr>\n",
       "      <th>0</th>\n",
       "      <td>no</td>\n",
       "      <td>1</td>\n",
       "      <td>0</td>\n",
       "      <td>32</td>\n",
       "      <td>12</td>\n",
       "      <td>34</td>\n",
       "      <td>12</td>\n",
       "      <td>12</td>\n",
       "      <td>7</td>\n",
       "      <td>5.0</td>\n",
       "      <td>no</td>\n",
       "      <td>yes</td>\n",
       "    </tr>\n",
       "    <tr>\n",
       "      <th>1</th>\n",
       "      <td>no</td>\n",
       "      <td>0</td>\n",
       "      <td>2</td>\n",
       "      <td>30</td>\n",
       "      <td>12</td>\n",
       "      <td>30</td>\n",
       "      <td>9</td>\n",
       "      <td>7</td>\n",
       "      <td>7</td>\n",
       "      <td>11.0</td>\n",
       "      <td>yes</td>\n",
       "      <td>yes</td>\n",
       "    </tr>\n",
       "    <tr>\n",
       "      <th>2</th>\n",
       "      <td>no</td>\n",
       "      <td>1</td>\n",
       "      <td>3</td>\n",
       "      <td>35</td>\n",
       "      <td>12</td>\n",
       "      <td>40</td>\n",
       "      <td>12</td>\n",
       "      <td>12</td>\n",
       "      <td>7</td>\n",
       "      <td>5.0</td>\n",
       "      <td>no</td>\n",
       "      <td>yes</td>\n",
       "    </tr>\n",
       "    <tr>\n",
       "      <th>3</th>\n",
       "      <td>no</td>\n",
       "      <td>0</td>\n",
       "      <td>3</td>\n",
       "      <td>34</td>\n",
       "      <td>12</td>\n",
       "      <td>53</td>\n",
       "      <td>10</td>\n",
       "      <td>7</td>\n",
       "      <td>7</td>\n",
       "      <td>5.0</td>\n",
       "      <td>no</td>\n",
       "      <td>yes</td>\n",
       "    </tr>\n",
       "    <tr>\n",
       "      <th>4</th>\n",
       "      <td>no</td>\n",
       "      <td>1</td>\n",
       "      <td>2</td>\n",
       "      <td>31</td>\n",
       "      <td>14</td>\n",
       "      <td>32</td>\n",
       "      <td>12</td>\n",
       "      <td>12</td>\n",
       "      <td>14</td>\n",
       "      <td>9.5</td>\n",
       "      <td>yes</td>\n",
       "      <td>yes</td>\n",
       "    </tr>\n",
       "  </tbody>\n",
       "</table>\n",
       "</div>"
      ],
      "text/plain": [
       "  work  child6  child618  agew  ...  educwf  unemprate  city  parents_edu\n",
       "0   no       1         0    32  ...       7        5.0    no          yes\n",
       "1   no       0         2    30  ...       7       11.0   yes          yes\n",
       "2   no       1         3    35  ...       7        5.0    no          yes\n",
       "3   no       0         3    34  ...       7        5.0    no          yes\n",
       "4   no       1         2    31  ...      14        9.5   yes          yes\n",
       "\n",
       "[5 rows x 12 columns]"
      ]
     },
     "execution_count": 244,
     "metadata": {
      "tags": []
     },
     "output_type": "execute_result"
    }
   ],
   "source": [
    "df_hp3.head()"
   ]
  },
  {
   "cell_type": "code",
   "execution_count": null,
   "metadata": {
    "colab": {},
    "colab_type": "code",
    "id": "dLq1BGF7n97K"
   },
   "outputs": [],
   "source": [
    "to_binary(df_hp3, \"work\", \"yes\", \"no\") # replace yes/no with 1/0 in column:work\n",
    "df_hp3[\"work\"] = df_hp3[\"work\"].astype(int) #convert the datatype of column:work to int"
   ]
  },
  {
   "cell_type": "code",
   "execution_count": null,
   "metadata": {
    "colab": {
     "base_uri": "https://localhost:8080/",
     "height": 692
    },
    "colab_type": "code",
    "id": "7-IPiDzynCwI",
    "outputId": "20635d82-47cc-4a4e-b275-8b70a2576ca8"
   },
   "outputs": [
    {
     "data": {
      "text/plain": [
       "[Text(0, 0.5, 'proportion of wife working'),\n",
       " Text(0.5, 0, 'Both parents with atleast 7 years edu?')]"
      ]
     },
     "execution_count": 249,
     "metadata": {
      "tags": []
     },
     "output_type": "execute_result"
    },
    {
     "data": {
      "image/png": "[encoded data removed]",
      "text/plain": [
       "<Figure size 720x720 with 1 Axes>"
      ]
     },
     "metadata": {
      "tags": []
     },
     "output_type": "display_data"
    }
   ],
   "source": [
    "plt.figure(figsize=(10,10))\n",
    "g = sns.barplot(x = \"parents_edu\", y = \"work\",data = df_hp3, errwidth=5, capsize=0.05, ci = 95, palette={\"yes\":\"green\", \"no\":\"red\"}, saturation = 0.3) # with 95% confidence interval\n",
    "g.set_title(\"Parent's Education & employment status\")\n",
    "g.set(xlabel = \"Both parents with atleast 7 years edu?\",\n",
    "      ylabel = \"proportion of wife working\")\n"
   ]
  },
  {
   "cell_type": "markdown",
   "metadata": {
    "colab_type": "text",
    "id": "BpAZCAclFeUm"
   },
   "source": [
    "Further work:\n",
    "\n",
    "1.   Refactor and organize for easier reproducability\n",
    "2.   Customize  the visualizations a bit more\n",
    "\n",
    "1.   Build and run models\n",
    "\n",
    "\n",
    "\n",
    "\n"
   ]
  },
  {
   "cell_type": "markdown",
   "metadata": {
    "colab_type": "text",
    "id": "g4XOmJc0FzKH"
   },
   "source": [
    "**END**"
   ]
  }
 ],
 "metadata": {
  "colab": {
   "authorship_tag": "ABX9TyOxmC5Mq7DgPxwaH61EgTHL",
   "collapsed_sections": [
    "Rg3HgoiilssU",
    "fg2peYLnl7fF",
    "rKUoIkj8mmz9",
    "o-yTd16wD46v",
    "00Ej3TE0mZbQ",
    "1wr1cN_4z4d_",
    "BJuuud6hbiGd",
    "oO6ypaQocFL_"
   ],
   "include_colab_link": true,
   "name": "Understood_org2.ipynb",
   "provenance": []
  },
  "kernelspec": {
   "display_name": "Python 3",
   "language": "python",
   "name": "python3"
  },
  "language_info": {
   "codemirror_mode": {
    "name": "ipython",
    "version": 3
   },
   "file_extension": ".py",
   "mimetype": "text/x-python",
   "name": "python",
   "nbconvert_exporter": "python",
   "pygments_lexer": "ipython3",
   "version": "3.8.3"
  }
 },
 "nbformat": 4,
 "nbformat_minor": 1
}
